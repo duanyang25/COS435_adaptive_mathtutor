import numpy as np
import pandas as pd
import matplotlib.pyplot as plt


df_train = pd.read_json("dataset/train.jsonl", lines=True)
df_test = pd.read_json("dataset/test.jsonl", lines=True)





df_train["conversation"][0]


df_train["conversation"][0].split("|EOM|")



