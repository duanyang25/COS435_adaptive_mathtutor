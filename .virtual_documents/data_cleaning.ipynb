import numpy as np
import pandas as pd
import matplotlib.pyplot as plt


df_train = pd.read_json("dataset/train.jsonl", lines=True)
df_test = pd.read_json("dataset/test.jsonl", lines=True)


df_train


df_train["conversation"][0]


df_train["conversation"][0].split("|EOM|")


df_train["student_profile"]


df_train["qid"].unique().shape


df_train.dtypes


df_train["student_profile"]


df_train["self-correctness"].value_counts()


df = pd.concat([df_train, df_test], axis=0, ignore_index=True)
df


df.shape


sample = df["conversation"][0]
sample


sample.split("|EOM|")


l = []
l.append("1")
l


l = ["0","1","2","3"]

"|EOM|".join(l[1:4])


def form_state_action_pair(conversation):
    samples = conversation.split("|EOM|")
    # samples.insert(0, "START")

    output = ["START"]

    i = 0
    while i < len(samples):
        if samples[i][:7] == "Teacher":
            # add an NaN state between actions
            if output[-1][:7] == "Teacher":
                output.append(np.nan)
            output.append(samples[i])
            i = i+1
        else:
            # find next teacher sentence
            teacher_index = i
            while teacher_index < len(samples): 
                if samples[teacher_index][:7] == "Teacher":
                    break
                teacher_index = teacher_index + 1

            state = "|EOM|".join(samples[i:teacher_index])
            output.append(state)
            i = teacher_index

    if output[-1][:7] != "Teacher":
        output.append(np.nan)
    return output


df_output = pd.DataFrame(columns=['qid', 'scenario', 'question', 'ground_truth',
       'student_incorrect_solution', 'student_profile',
       'teacher_described_confusion', 'self-correctness',
       'self-typical-confusion', 'self-typical-interactions', 'conversation',
        "state", "action_type", "action_text", "reward", "next_state", "next_action_type", "next_action_text", "done"
                                 ])
df_output

for index, row in df.iterrows():
    pairs = form_state_action_pair(row["conversation"])

    assert len(pairs) % 2 == 0
    
    for i in range(0, len(pairs),2):
        # student
        if not pd.isnull(pairs[i]):
            assert pairs[i][:7] != "Teacher"
        state = pairs[i]
        
        if pd.isnull(pairs[i+1]):
            action_type = np.nan
            action_text = np.nan
        else:
            # teacher
            s = pairs[i+1]
            assert s[:7] == "Teacher"
            action_type = s[s.find("(")+1:s.find(")")]
            action_text = s
        
        reward = np.nan

        if i == len(pairs) - 2:
            next_state = np.nan
            next_action_type = np.nan
            next_action_text = np.nan
            done = 1
        else:
            # student
            if pd.isnull(pairs[i+2]):
                next_state = np.nan
            else:
                assert pairs[i+2][:7] != "Teacher"
                next_state = pairs[i+2]
            
            # teacher
            if pd.isnull(pairs[i+3]):
                next_action_type = np.nan
                next_action_text = np.nan
            else:
                assert pairs[i+3][:7] == "Teacher"
                s = pairs[i+3]
                next_action_type = s[s.find("(")+1:s.find(")")]
                next_action_text = s
            done = 0
        
        
        df_output.loc[len(df_output)] = \
                                        [row["qid"],
                                        row["scenario"],
                                        row["question"],
                                        row["ground_truth"],
                                        row["student_incorrect_solution"],
                                        row["student_profile"],
                                        row["teacher_described_confusion"],
                                        row["self-correctness"],
                                        row["self-typical-confusion"],
                                        row["self-typical-interactions"],
                                        row["conversation"],
                                        state, 
                                        action_type, 
                                        action_text, 
                                        reward, 
                                        next_state, 
                                        next_action_type, 
                                        next_action_text, 
                                        done
                                        ]
        


df_output


df_output.to_pickle("dataset/processed.pkl")  


for i in ['qid', 'scenario', 'question', 'ground_truth',
       'student_incorrect_solution', 'student_profile',
       'teacher_described_confusion', 'self-correctness',
       'self-typical-confusion', 'self-typical-interactions', 'conversation']:
    print("row[\"{}\"]".format(i), end=",\n")


print?


"Teacher"[:7]


print(", \n".join(["state", "action_type", "action_text", "reward", "next_state", "next_action_type", "next_action_text", "done"]))


# loading dataset
# loaded_df = pd.read_pickle("./processed.pkl")  


df_output


df_output.to_excel("dataset/processed.xlsx")  






