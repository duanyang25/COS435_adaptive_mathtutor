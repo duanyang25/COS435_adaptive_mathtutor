{
 "cells": [
  {
   "cell_type": "code",
   "execution_count": 1,
   "id": "91e8a67d-8463-49fe-b97b-44dd3a024505",
   "metadata": {},
   "outputs": [],
   "source": [
    "import random\n",
    "import numpy as np\n",
    "import torch\n",
    "import torch.nn as nn\n",
    "import torch.nn.functional as F\n",
    "import torch.optim as optim\n",
    "from torch.distributions import Normal\n",
    "import matplotlib.pyplot as plt\n",
    "import sys\n",
    "%matplotlib inline\n",
    "\n"
   ]
  },
  {
   "cell_type": "code",
   "execution_count": 8,
   "id": "e8937439-d16b-4afb-a33b-e52a584b7a6a",
   "metadata": {},
   "outputs": [
    {
     "name": "stdout",
     "output_type": "stream",
     "text": [
      "/Users/liam/cos435_project\n"
     ]
    }
   ],
   "source": [
    "!pwd"
   ]
  },
  {
   "cell_type": "code",
   "execution_count": 9,
   "id": "12f0bae5-1b47-453b-9fb1-80ec2b9ed48c",
   "metadata": {},
   "outputs": [
    {
     "data": {
      "text/html": [
       "<div>\n",
       "<style scoped>\n",
       "    .dataframe tbody tr th:only-of-type {\n",
       "        vertical-align: middle;\n",
       "    }\n",
       "\n",
       "    .dataframe tbody tr th {\n",
       "        vertical-align: top;\n",
       "    }\n",
       "\n",
       "    .dataframe thead th {\n",
       "        text-align: right;\n",
       "    }\n",
       "</style>\n",
       "<table border=\"1\" class=\"dataframe\">\n",
       "  <thead>\n",
       "    <tr style=\"text-align: right;\">\n",
       "      <th></th>\n",
       "      <th>misconception_type</th>\n",
       "      <th>convo_turn</th>\n",
       "      <th>done</th>\n",
       "      <th>previous_action_id</th>\n",
       "      <th>listen_to_feedback</th>\n",
       "      <th>problem_progress</th>\n",
       "      <th>progress_delta</th>\n",
       "      <th>correct_solution</th>\n",
       "      <th>next_action_hint_strength</th>\n",
       "      <th>next_action_id</th>\n",
       "    </tr>\n",
       "  </thead>\n",
       "  <tbody>\n",
       "    <tr>\n",
       "      <th>0</th>\n",
       "      <td>1</td>\n",
       "      <td>1</td>\n",
       "      <td>0</td>\n",
       "      <td>0.0</td>\n",
       "      <td>0</td>\n",
       "      <td>0</td>\n",
       "      <td>0</td>\n",
       "      <td>0</td>\n",
       "      <td>1</td>\n",
       "      <td>1</td>\n",
       "    </tr>\n",
       "    <tr>\n",
       "      <th>1</th>\n",
       "      <td>1</td>\n",
       "      <td>2</td>\n",
       "      <td>0</td>\n",
       "      <td>21.0</td>\n",
       "      <td>1</td>\n",
       "      <td>25</td>\n",
       "      <td>25</td>\n",
       "      <td>0</td>\n",
       "      <td>1</td>\n",
       "      <td>1</td>\n",
       "    </tr>\n",
       "    <tr>\n",
       "      <th>2</th>\n",
       "      <td>1</td>\n",
       "      <td>3</td>\n",
       "      <td>1</td>\n",
       "      <td>36.0</td>\n",
       "      <td>1</td>\n",
       "      <td>100</td>\n",
       "      <td>75</td>\n",
       "      <td>1</td>\n",
       "      <td>1</td>\n",
       "      <td>3</td>\n",
       "    </tr>\n",
       "    <tr>\n",
       "      <th>3</th>\n",
       "      <td>3</td>\n",
       "      <td>1</td>\n",
       "      <td>0</td>\n",
       "      <td>0.0</td>\n",
       "      <td>0</td>\n",
       "      <td>0</td>\n",
       "      <td>0</td>\n",
       "      <td>0</td>\n",
       "      <td>1</td>\n",
       "      <td>1</td>\n",
       "    </tr>\n",
       "    <tr>\n",
       "      <th>4</th>\n",
       "      <td>3</td>\n",
       "      <td>2</td>\n",
       "      <td>0</td>\n",
       "      <td>21.0</td>\n",
       "      <td>1</td>\n",
       "      <td>75</td>\n",
       "      <td>75</td>\n",
       "      <td>0</td>\n",
       "      <td>2</td>\n",
       "      <td>1</td>\n",
       "    </tr>\n",
       "    <tr>\n",
       "      <th>...</th>\n",
       "      <td>...</td>\n",
       "      <td>...</td>\n",
       "      <td>...</td>\n",
       "      <td>...</td>\n",
       "      <td>...</td>\n",
       "      <td>...</td>\n",
       "      <td>...</td>\n",
       "      <td>...</td>\n",
       "      <td>...</td>\n",
       "      <td>...</td>\n",
       "    </tr>\n",
       "    <tr>\n",
       "      <th>12012</th>\n",
       "      <td>2</td>\n",
       "      <td>25</td>\n",
       "      <td>0</td>\n",
       "      <td>60.0</td>\n",
       "      <td>0</td>\n",
       "      <td>50</td>\n",
       "      <td>50</td>\n",
       "      <td>0</td>\n",
       "      <td>2</td>\n",
       "      <td>0</td>\n",
       "    </tr>\n",
       "    <tr>\n",
       "      <th>12013</th>\n",
       "      <td>2</td>\n",
       "      <td>26</td>\n",
       "      <td>0</td>\n",
       "      <td>2.0</td>\n",
       "      <td>1</td>\n",
       "      <td>50</td>\n",
       "      <td>0</td>\n",
       "      <td>0</td>\n",
       "      <td>2</td>\n",
       "      <td>0</td>\n",
       "    </tr>\n",
       "    <tr>\n",
       "      <th>12014</th>\n",
       "      <td>2</td>\n",
       "      <td>27</td>\n",
       "      <td>0</td>\n",
       "      <td>2.0</td>\n",
       "      <td>0</td>\n",
       "      <td>40</td>\n",
       "      <td>-10</td>\n",
       "      <td>0</td>\n",
       "      <td>3</td>\n",
       "      <td>0</td>\n",
       "    </tr>\n",
       "    <tr>\n",
       "      <th>12015</th>\n",
       "      <td>2</td>\n",
       "      <td>28</td>\n",
       "      <td>0</td>\n",
       "      <td>13.0</td>\n",
       "      <td>1</td>\n",
       "      <td>75</td>\n",
       "      <td>35</td>\n",
       "      <td>0</td>\n",
       "      <td>2</td>\n",
       "      <td>0</td>\n",
       "    </tr>\n",
       "    <tr>\n",
       "      <th>12016</th>\n",
       "      <td>2</td>\n",
       "      <td>29</td>\n",
       "      <td>0</td>\n",
       "      <td>2.0</td>\n",
       "      <td>1</td>\n",
       "      <td>75</td>\n",
       "      <td>0</td>\n",
       "      <td>0</td>\n",
       "      <td>3</td>\n",
       "      <td>2</td>\n",
       "    </tr>\n",
       "  </tbody>\n",
       "</table>\n",
       "<p>12017 rows × 10 columns</p>\n",
       "</div>"
      ],
      "text/plain": [
       "       misconception_type  convo_turn  done  previous_action_id  \\\n",
       "0                       1           1     0                 0.0   \n",
       "1                       1           2     0                21.0   \n",
       "2                       1           3     1                36.0   \n",
       "3                       3           1     0                 0.0   \n",
       "4                       3           2     0                21.0   \n",
       "...                   ...         ...   ...                 ...   \n",
       "12012                   2          25     0                60.0   \n",
       "12013                   2          26     0                 2.0   \n",
       "12014                   2          27     0                 2.0   \n",
       "12015                   2          28     0                13.0   \n",
       "12016                   2          29     0                 2.0   \n",
       "\n",
       "       listen_to_feedback  problem_progress  progress_delta  correct_solution  \\\n",
       "0                       0                 0               0                 0   \n",
       "1                       1                25              25                 0   \n",
       "2                       1               100              75                 1   \n",
       "3                       0                 0               0                 0   \n",
       "4                       1                75              75                 0   \n",
       "...                   ...               ...             ...               ...   \n",
       "12012                   0                50              50                 0   \n",
       "12013                   1                50               0                 0   \n",
       "12014                   0                40             -10                 0   \n",
       "12015                   1                75              35                 0   \n",
       "12016                   1                75               0                 0   \n",
       "\n",
       "       next_action_hint_strength  next_action_id  \n",
       "0                              1               1  \n",
       "1                              1               1  \n",
       "2                              1               3  \n",
       "3                              1               1  \n",
       "4                              2               1  \n",
       "...                          ...             ...  \n",
       "12012                          2               0  \n",
       "12013                          2               0  \n",
       "12014                          3               0  \n",
       "12015                          2               0  \n",
       "12016                          3               2  \n",
       "\n",
       "[12017 rows x 10 columns]"
      ]
     },
     "execution_count": 9,
     "metadata": {},
     "output_type": "execute_result"
    }
   ],
   "source": [
    "import pandas as pd\n",
    "train = pd.read_csv(\"/Users/liam/cos435_project/dataset/MathDial_map_back_4_actions.csv\", sep=\"\\t\")\n",
    "train"
   ]
  },
  {
   "cell_type": "code",
   "execution_count": null,
   "id": "53541238-e86f-4c95-bc63-7ceefa0fdebd",
   "metadata": {},
   "outputs": [],
   "source": []
  },
  {
   "cell_type": "code",
   "execution_count": 87,
   "id": "f1958116-4618-43c6-9bed-cceb12a21e0b",
   "metadata": {},
   "outputs": [
    {
     "data": {
      "text/plain": [
       "array([  0,   5,  10,  15,  20,  25,  30,  35,  40,  50,  60,  65,  70,\n",
       "        75,  80,  85,  90,  95, 100])"
      ]
     },
     "execution_count": 87,
     "metadata": {},
     "output_type": "execute_result"
    }
   ],
   "source": [
    "import matplotlib.pyplot as plt\n",
    "\n",
    "t = train_dataset[\"problem_progress\"].unique()\n",
    "t.sort()\n",
    "t"
   ]
  },
  {
   "cell_type": "code",
   "execution_count": 65,
   "id": "a62362b7-106a-4439-9ba0-2c41beabf557",
   "metadata": {},
   "outputs": [
    {
     "data": {
      "image/png": "[encoded data removed]",
      "text/plain": [
       "<Figure size 640x480 with 1 Axes>"
      ]
     },
     "metadata": {},
     "output_type": "display_data"
    }
   ],
   "source": [
    "plt.hist((np.random.normal(loc=0, scale=1.0, size = 1000) - -3) / (3 - -3), density=True)\n",
    "plt.show()"
   ]
  },
  {
   "cell_type": "code",
   "execution_count": 1,
   "id": "c442e0cb-ebfc-4688-bbd3-c0f5a223c945",
   "metadata": {},
   "outputs": [],
   "source": [
    "# Simulator"
   ]
  },
  {
   "cell_type": "code",
   "execution_count": null,
   "id": "83e7d527-0992-4096-8ec2-c53a93798b21",
   "metadata": {},
   "outputs": [],
   "source": []
  },
  {
   "cell_type": "code",
   "execution_count": 2,
   "id": "7890b9d9-7911-48f6-b366-0541efd82a01",
   "metadata": {},
   "outputs": [],
   "source": [
    "from env import simulator"
   ]
  },
  {
   "cell_type": "code",
   "execution_count": 3,
   "id": "c5e05b33-c0dc-4f80-947b-7aa86c7b22dc",
   "metadata": {},
   "outputs": [],
   "source": [
    "env = simulator()"
   ]
  },
  {
   "cell_type": "code",
   "execution_count": 9,
   "id": "49d7e7dc-d822-4dc4-834c-30965a80149d",
   "metadata": {},
   "outputs": [
    {
     "data": {
      "text/plain": [
       "(2, 0, 0, 0, 0, 0, 0)"
      ]
     },
     "execution_count": 9,
     "metadata": {},
     "output_type": "execute_result"
    }
   ],
   "source": [
    "s, _ = env.reset()\n",
    "\n",
    "# ['misconception_type', 'convo_turn','done','listen_to_feedback','problem_progress','progress_delta','correct_solution']\n",
    "s"
   ]
  },
  {
   "cell_type": "code",
   "execution_count": 26,
   "id": "f3df0cfe-7636-4a91-bb14-396ce9c05be0",
   "metadata": {},
   "outputs": [
    {
     "data": {
      "text/plain": [
       "(1, 3, 1, 0, 100, 90, 1)"
      ]
     },
     "execution_count": 26,
     "metadata": {},
     "output_type": "execute_result"
    }
   ],
   "source": [
    "# \"Focus\": 0,\n",
    "# \"Probing\": 1,\n",
    "# \"Telling\": 2,\n",
    "# \"Generic\": 3,\n",
    "# self.action = [0,1,2,3]\n",
    "a = 0\n",
    "s, r, done, _, _ = env.step(a)\n",
    "if done:\n",
    "    env.reset()\n",
    "s"
   ]
  },
  {
   "cell_type": "code",
   "execution_count": 25,
   "id": "19cdd62e-2bd4-45a3-879a-5da00260ebbd",
   "metadata": {},
   "outputs": [
    {
     "data": {
      "text/plain": [
       "(1, 2, 0, 0, 10, 0, 0)"
      ]
     },
     "execution_count": 25,
     "metadata": {},
     "output_type": "execute_result"
    }
   ],
   "source": [
    "s"
   ]
  },
  {
   "cell_type": "code",
   "execution_count": 14,
   "id": "bb9bbfc9-292b-43df-86c6-bea90460048b",
   "metadata": {},
   "outputs": [
    {
     "data": {
      "text/plain": [
       "np.int64(16)"
      ]
     },
     "execution_count": 14,
     "metadata": {},
     "output_type": "execute_result"
    }
   ],
   "source": [
    "r"
   ]
  },
  {
   "cell_type": "code",
   "execution_count": 13,
   "id": "9086266e-31db-4207-8570-af99b4ead737",
   "metadata": {},
   "outputs": [],
   "source": [
    "# policy evaluation with Monte Carlo\n",
    "def eval_policy(policy, env_name, seed, eval_episodes=10):\n",
    "        eval_env = gym.make(env_name)\n",
    "        eval_env.reset(seed=seed)\n",
    "        avg_reward = 0.\n",
    "        for _ in range(eval_episodes):\n",
    "            state, _ = eval_env.reset()\n",
    "            done = False\n",
    "            step = 0\n",
    "            while not done:\n",
    "                action = policy.select_action(np.array(state))\n",
    "                state, reward, terminated, truncated, _ = eval_env.step(action)\n",
    "                avg_reward += reward\n",
    "                step += 1\n",
    "                done = terminated or truncated\n",
    "        avg_reward /= eval_episodes\n",
    "\n",
    "        print(\"---------------------------------------\")\n",
    "        print(f\"Evaluation over {eval_episodes} episodes: {avg_reward:.3f}\")\n",
    "        print(\"---------------------------------------\")\n",
    "        return avg_reward"
   ]
  },
  {
   "cell_type": "code",
   "execution_count": null,
   "id": "a9448111-ed3c-4f54-9f83-0cb9cd07dad0",
   "metadata": {},
   "outputs": [],
   "source": []
  }
 ],
 "metadata": {
  "kernelspec": {
   "display_name": "pytorch",
   "language": "python",
   "name": "pytorch"
  },
  "language_info": {
   "codemirror_mode": {
    "name": "ipython",
    "version": 3
   },
   "file_extension": ".py",
   "mimetype": "text/x-python",
   "name": "python",
   "nbconvert_exporter": "python",
   "pygments_lexer": "ipython3",
   "version": "3.10.12"
  }
 },
 "nbformat": 4,
 "nbformat_minor": 5
}
