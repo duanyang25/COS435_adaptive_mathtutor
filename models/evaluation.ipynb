{
 "cells": [
  {
   "cell_type": "code",
   "execution_count": 1,
   "id": "91e8a67d-8463-49fe-b97b-44dd3a024505",
   "metadata": {},
   "outputs": [],
   "source": [
    "import random\n",
    "import numpy as np\n",
    "import torch\n",
    "import torch.nn as nn\n",
    "import torch.nn.functional as F\n",
    "import torch.optim as optim\n",
    "from torch.distributions import Normal\n",
    "import matplotlib.pyplot as plt\n",
    "import sys\n",
    "%matplotlib inline"
   ]
  },
  {
   "cell_type": "code",
   "execution_count": null,
   "id": "9086266e-31db-4207-8570-af99b4ead737",
   "metadata": {},
   "outputs": [],
   "source": [
    "# policy evaluation with Monte Carlo\n",
    "def eval_policy(policy, env_name, seed, eval_episodes=10):\n",
    "        eval_env = gym.make(env_name)\n",
    "        eval_env.reset(seed=seed)\n",
    "        avg_reward = 0.\n",
    "        for _ in range(eval_episodes):\n",
    "            state, _ = eval_env.reset()\n",
    "            done = False\n",
    "            step = 0\n",
    "            while not done:\n",
    "                action = policy.select_action(np.array(state))\n",
    "                state, reward, terminated, truncated, _ = eval_env.step(action)\n",
    "                avg_reward += reward\n",
    "                step += 1\n",
    "                done = terminated or truncated\n",
    "        avg_reward /= eval_episodes\n",
    "\n",
    "        print(\"---------------------------------------\")\n",
    "        print(f\"Evaluation over {eval_episodes} episodes: {avg_reward:.3f}\")\n",
    "        print(\"---------------------------------------\")\n",
    "        return avg_reward"
   ]
  }
 ],
 "metadata": {
  "kernelspec": {
   "display_name": "pytorch",
   "language": "python",
   "name": "pytorch"
  },
  "language_info": {
   "codemirror_mode": {
    "name": "ipython",
    "version": 3
   },
   "file_extension": ".py",
   "mimetype": "text/x-python",
   "name": "python",
   "nbconvert_exporter": "python",
   "pygments_lexer": "ipython3",
   "version": "3.10.12"
  }
 },
 "nbformat": 4,
 "nbformat_minor": 5
}
