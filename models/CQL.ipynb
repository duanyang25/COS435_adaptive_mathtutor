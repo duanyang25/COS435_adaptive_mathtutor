{
  "nbformat": 4,
  "nbformat_minor": 0,
  "metadata": {
    "colab": {
      "provenance": []
    },
    "kernelspec": {
      "name": "python3",
      "display_name": "Python 3"
    },
    "language_info": {
      "name": "python"
    }
  },
  "cells": [
    {
      "cell_type": "code",
      "execution_count": null,
      "metadata": {
        "id": "tJiGsGgv5niv"
      },
      "outputs": [],
      "source": [
        "# Standard libraries\n",
        "import numpy as np\n",
        "import pandas as pd\n",
        "import json\n",
        "from collections import defaultdict, Counter\n",
        "from tqdm import tqdm\n",
        "\n",
        "# PyTorch\n",
        "import torch\n",
        "import torch.nn as nn\n",
        "import torch.optim as optim\n",
        "import torch.nn.functional as F\n",
        "from torch.utils.data import Dataset, DataLoader, TensorDataset\n",
        "\n",
        "# Scikit-learn\n",
        "from sklearn.model_selection import train_test_split\n",
        "from sklearn.preprocessing import OneHotEncoder\n",
        "\n",
        "# Visualization\n",
        "import matplotlib.pyplot as plt\n",
        "import seaborn as sns"
      ]
    },
    {
      "cell_type": "code",
      "source": [
        "# Converts numpy arrays to Pytorch tensors for custom dataset\n",
        "class TutorDataset(Dataset):\n",
        "    def __init__(self, states, actions):\n",
        "        self.states = torch.tensor(states, dtype=torch.float32)\n",
        "        self.actions = torch.tensor(actions, dtype=torch.long)\n",
        "\n",
        "    def __len__(self):\n",
        "        return len(self.actions)\n",
        "\n",
        "    def __getitem__(self, i):\n",
        "        return self.states[i], self.actions[i]\n",
        "\n",
        "# FFNN with 2 hidden layers, 256 units each, ReLU activation, 80/20 train/val split\n",
        "class BCModel(nn.Module):\n",
        "    def __init__(self, input_dim, output_dim, hidden_dim=256):\n",
        "        super().__init__()\n",
        "        self.net = nn.Sequential(\n",
        "            nn.Linear(input_dim, hidden_dim),\n",
        "            nn.ReLU(),\n",
        "            nn.Linear(hidden_dim, hidden_dim),\n",
        "            nn.ReLU(),\n",
        "            nn.Linear(hidden_dim, output_dim)\n",
        "        )\n",
        "\n",
        "    def forward(self, x):\n",
        "        return self.net(x)\n",
        "\n",
        "def prepare_data_for_bc(csv_file_path):\n",
        "    df = pd.read_csv(csv_file_path)\n",
        "    state_features = [\n",
        "        'misconception_type',\n",
        "        'convo_turn',\n",
        "        'previous_action_id',\n",
        "        'listen_to_feedback',\n",
        "        'problem_progress',\n",
        "        'progress_delta',\n",
        "        'correct_solution',\n",
        "        'next_action_hint_strength'\n",
        "    ]\n",
        "    action_column = 'next_action_id'\n",
        "    df = df.dropna(subset=[action_column])\n",
        "    df[action_column] = df[action_column].astype(int)\n",
        "    categorical_features = ['misconception_type', 'previous_action_id', 'listen_to_feedback', 'correct_solution']\n",
        "    numerical_features = [f for f in state_features if f not in categorical_features]\n",
        "    for feature in categorical_features:\n",
        "        df[feature] = df[feature].fillna(-1)\n",
        "    for feature in numerical_features:\n",
        "        df[feature] = df[feature].fillna(df[feature].mean() if not df[feature].isna().all() else 0)\n",
        "    encoder = OneHotEncoder(sparse_output=False, handle_unknown='ignore')\n",
        "    encoded_features = encoder.fit_transform(df[categorical_features])\n",
        "    numerical_data = df[numerical_features].values\n",
        "    states = np.hstack((numerical_data, encoded_features))\n",
        "    actions = df[action_column].values\n",
        "    unique_actions = np.unique(actions)\n",
        "    action_map = {old_id: new_id for new_id, old_id in enumerate(sorted(unique_actions))}\n",
        "    remapped_actions = np.array([action_map[a] for a in actions])\n",
        "    train_states, val_states, train_actions, val_actions = train_test_split(\n",
        "        states, remapped_actions, test_size=0.2, random_state=42\n",
        "    )\n",
        "    return train_states, val_states, train_actions, val_actions, len(unique_actions)\n",
        "\n",
        "def train_bc_model(csv_file_path, epochs=50, batch_size=128, lr=1e-3):\n",
        "    train_states, val_states, train_actions, val_actions, num_actions = prepare_data_for_bc(csv_file_path)\n",
        "    print(f\"Number of actions: {num_actions}\")\n",
        "    print(f\"Train states shape: {train_states.shape}\")\n",
        "    print(f\"Train actions shape: {train_actions.shape}\")\n",
        "    train_ds = TutorDataset(train_states, train_actions)\n",
        "    val_ds = TutorDataset(val_states, val_actions)\n",
        "    train_loader = DataLoader(train_ds, batch_size=batch_size, shuffle=True)\n",
        "    val_loader = DataLoader(val_ds, batch_size=batch_size)\n",
        "\n",
        "    model = BCModel(input_dim=train_states.shape[1], output_dim=num_actions)\n",
        "    criterion = nn.CrossEntropyLoss()\n",
        "    opt = optim.Adam(model.parameters(), lr=lr)\n",
        "\n",
        "    train_losses = []\n",
        "    val_losses = []\n",
        "\n",
        "    best_val_acc = 0\n",
        "    for epoch in range(epochs):\n",
        "        model.train()\n",
        "        train_loss = 0\n",
        "        train_correct = 0\n",
        "        train_total = 0\n",
        "        for S, A in train_loader:\n",
        "            logits = model(S)\n",
        "            loss = criterion(logits, A)\n",
        "            opt.zero_grad()\n",
        "            loss.backward()\n",
        "            opt.step()\n",
        "            train_loss += loss.item()\n",
        "            _, predicted = torch.max(logits.data, 1)\n",
        "            train_total += A.size(0)\n",
        "            train_correct += (predicted == A).sum().item()\n",
        "        train_loss /= len(train_loader)\n",
        "        train_losses.append(train_loss)\n",
        "\n",
        "        model.eval()\n",
        "        val_loss = 0\n",
        "        val_total = 0\n",
        "        val_correct = 0\n",
        "        with torch.no_grad():\n",
        "            for S, A in val_loader:\n",
        "                logits = model(S)\n",
        "                loss = criterion(logits, A)\n",
        "                val_loss += loss.item()\n",
        "                _, predicted = torch.max(logits.data, 1)\n",
        "                val_total += A.size(0)\n",
        "                val_correct += (predicted == A).sum().item()\n",
        "        val_loss /= len(val_loader)\n",
        "        val_losses.append(val_loss)\n",
        "\n",
        "        val_acc = 100 * val_correct / val_total\n",
        "        if val_acc > best_val_acc:\n",
        "            best_val_acc = val_acc\n",
        "            torch.save(model.state_dict(), 'best_bc_model.pt')\n",
        "\n",
        "        print(f'Epoch {epoch+1}/{epochs}, Train Loss: {train_loss:.4f}, Val Loss: {val_loss:.4f}, Val Acc: {val_acc:.2f}%')\n",
        "\n",
        "    # Plot BC loss curve\n",
        "    plt.figure()\n",
        "    plt.plot(range(1, epochs+1), train_losses, label='Train Loss')\n",
        "    plt.plot(range(1, epochs+1), val_losses, label='Val Loss')\n",
        "    plt.xlabel('Epoch')\n",
        "    plt.ylabel('Loss')\n",
        "    plt.title('BC Loss Curve')\n",
        "    plt.legend()\n",
        "    plt.show()\n",
        "\n",
        "    print(f'Best validation accuracy: {best_val_acc:.2f}%')\n",
        "    return model\n",
        "\n",
        "if __name__ == \"__main__\":\n",
        "    model = train_bc_model(\"data.csv\")\n"
      ],
      "metadata": {
        "colab": {
          "base_uri": "https://localhost:8080/",
          "height": 1000
        },
        "id": "86yBpYyM5wkz",
        "outputId": "1c0bf93e-92e4-44c0-bc88-006426ca362e"
      },
      "execution_count": null,
      "outputs": [
        {
          "output_type": "stream",
          "name": "stdout",
          "text": [
            "Number of actions: 50\n",
            "Train states shape: (9613, 64)\n",
            "Train actions shape: (9613,)\n",
            "Epoch 1/50, Train Loss: 2.7861, Val Loss: 2.5493, Val Acc: 28.29%\n",
            "Epoch 2/50, Train Loss: 2.3179, Val Loss: 2.2504, Val Acc: 33.61%\n",
            "Epoch 3/50, Train Loss: 2.0965, Val Loss: 2.1504, Val Acc: 38.48%\n",
            "Epoch 4/50, Train Loss: 1.9613, Val Loss: 2.0049, Val Acc: 41.43%\n",
            "Epoch 5/50, Train Loss: 1.8266, Val Loss: 1.8955, Val Acc: 42.39%\n",
            "Epoch 6/50, Train Loss: 1.6828, Val Loss: 1.6738, Val Acc: 47.00%\n",
            "Epoch 7/50, Train Loss: 1.5375, Val Loss: 1.5821, Val Acc: 48.46%\n",
            "Epoch 8/50, Train Loss: 1.4852, Val Loss: 1.5988, Val Acc: 47.96%\n",
            "Epoch 9/50, Train Loss: 1.4364, Val Loss: 1.5260, Val Acc: 49.08%\n",
            "Epoch 10/50, Train Loss: 1.4141, Val Loss: 1.4905, Val Acc: 49.96%\n",
            "Epoch 11/50, Train Loss: 1.3970, Val Loss: 1.4812, Val Acc: 50.42%\n",
            "Epoch 12/50, Train Loss: 1.3882, Val Loss: 1.4922, Val Acc: 50.08%\n",
            "Epoch 13/50, Train Loss: 1.3817, Val Loss: 1.4742, Val Acc: 49.54%\n",
            "Epoch 14/50, Train Loss: 1.3484, Val Loss: 1.4935, Val Acc: 48.59%\n",
            "Epoch 15/50, Train Loss: 1.3641, Val Loss: 1.4738, Val Acc: 49.21%\n",
            "Epoch 16/50, Train Loss: 1.3506, Val Loss: 1.4852, Val Acc: 48.54%\n",
            "Epoch 17/50, Train Loss: 1.3432, Val Loss: 1.4763, Val Acc: 49.04%\n",
            "Epoch 18/50, Train Loss: 1.3381, Val Loss: 1.4777, Val Acc: 48.29%\n",
            "Epoch 19/50, Train Loss: 1.3325, Val Loss: 1.4705, Val Acc: 50.04%\n",
            "Epoch 20/50, Train Loss: 1.3286, Val Loss: 1.4716, Val Acc: 49.63%\n",
            "Epoch 21/50, Train Loss: 1.3226, Val Loss: 1.4643, Val Acc: 49.25%\n",
            "Epoch 22/50, Train Loss: 1.3243, Val Loss: 1.4618, Val Acc: 49.58%\n",
            "Epoch 23/50, Train Loss: 1.3163, Val Loss: 1.4593, Val Acc: 49.00%\n",
            "Epoch 24/50, Train Loss: 1.3031, Val Loss: 1.4960, Val Acc: 49.00%\n",
            "Epoch 25/50, Train Loss: 1.3121, Val Loss: 1.4973, Val Acc: 49.33%\n",
            "Epoch 26/50, Train Loss: 1.3103, Val Loss: 1.4675, Val Acc: 49.92%\n",
            "Epoch 27/50, Train Loss: 1.3040, Val Loss: 1.4865, Val Acc: 48.71%\n",
            "Epoch 28/50, Train Loss: 1.3006, Val Loss: 1.4738, Val Acc: 49.92%\n",
            "Epoch 29/50, Train Loss: 1.2944, Val Loss: 1.4977, Val Acc: 48.59%\n",
            "Epoch 30/50, Train Loss: 1.2906, Val Loss: 1.4877, Val Acc: 49.42%\n",
            "Epoch 31/50, Train Loss: 1.2870, Val Loss: 1.4917, Val Acc: 48.54%\n",
            "Epoch 32/50, Train Loss: 1.2873, Val Loss: 1.4983, Val Acc: 49.00%\n",
            "Epoch 33/50, Train Loss: 1.2830, Val Loss: 1.4691, Val Acc: 49.33%\n",
            "Epoch 34/50, Train Loss: 1.2746, Val Loss: 1.4774, Val Acc: 48.54%\n",
            "Epoch 35/50, Train Loss: 1.2750, Val Loss: 1.4834, Val Acc: 47.13%\n",
            "Epoch 36/50, Train Loss: 1.2714, Val Loss: 1.4941, Val Acc: 48.25%\n",
            "Epoch 37/50, Train Loss: 1.2694, Val Loss: 1.4957, Val Acc: 49.54%\n",
            "Epoch 38/50, Train Loss: 1.2606, Val Loss: 1.5062, Val Acc: 47.59%\n",
            "Epoch 39/50, Train Loss: 1.2596, Val Loss: 1.5162, Val Acc: 48.96%\n",
            "Epoch 40/50, Train Loss: 1.2519, Val Loss: 1.4971, Val Acc: 48.71%\n",
            "Epoch 41/50, Train Loss: 1.2504, Val Loss: 1.5167, Val Acc: 49.29%\n",
            "Epoch 42/50, Train Loss: 1.2511, Val Loss: 1.5131, Val Acc: 48.38%\n",
            "Epoch 43/50, Train Loss: 1.2411, Val Loss: 1.4936, Val Acc: 48.25%\n",
            "Epoch 44/50, Train Loss: 1.2361, Val Loss: 1.5390, Val Acc: 48.50%\n",
            "Epoch 45/50, Train Loss: 1.2365, Val Loss: 1.5214, Val Acc: 47.92%\n",
            "Epoch 46/50, Train Loss: 1.2418, Val Loss: 1.5271, Val Acc: 47.67%\n",
            "Epoch 47/50, Train Loss: 1.2246, Val Loss: 1.5344, Val Acc: 47.63%\n",
            "Epoch 48/50, Train Loss: 1.2231, Val Loss: 1.5288, Val Acc: 48.09%\n",
            "Epoch 49/50, Train Loss: 1.2195, Val Loss: 1.5370, Val Acc: 49.29%\n",
            "Epoch 50/50, Train Loss: 1.2212, Val Loss: 1.5341, Val Acc: 48.17%\n"
          ]
        },
        {
          "output_type": "display_data",
          "data": {
            "text/plain": [
              "<Figure size 640x480 with 1 Axes>"
            ],
            "image/png": "[encoded data removed]"
          },
          "metadata": {}
        },
        {
          "output_type": "stream",
          "name": "stdout",
          "text": [
            "Best validation accuracy: 50.42%\n"
          ]
        }
      ]
    },
    {
      "cell_type": "code",
      "source": [
        "# stores sequences of state-action-reward transitions (s,a,r,s',done)\n",
        "class TransitionBuffer:\n",
        "    def __init__(self):\n",
        "        self.states = []\n",
        "        self.actions = []\n",
        "        self.rewards = []\n",
        "        self.next_states = []\n",
        "        self.dones = []\n",
        "\n",
        "    def push(self, s, a, r, s2, done):\n",
        "        self.states.append(s)\n",
        "        self.actions.append(a)\n",
        "        self.rewards.append(r)\n",
        "        self.next_states.append(s2)\n",
        "        self.dones.append(done)\n",
        "\n",
        "    def __len__(self):\n",
        "        return len(self.actions)\n",
        "\n",
        "# converts tabular tutoring data into transitions, encode features, organize data based on convo turns\n",
        "def build_transition_buffer(\n",
        "    df: pd.DataFrame,\n",
        "    reward_fn,\n",
        "    meta_map: dict,\n",
        "    orig_to_idx: dict,\n",
        "    episode_column: str = None\n",
        "):\n",
        "    \"\"\"\n",
        "    Build a transition buffer for offline RL using a 50-action index map and\n",
        "    its corresponding metadata map.\n",
        "\n",
        "    Args:\n",
        "        df: DataFrame with tutoring data; must contain 'next_action_id' and state features.\n",
        "        reward_fn: function(prev_state, action_idx, next_state, action_meta) -> reward\n",
        "        meta_map: nested metadata dict mapping category->strategy->(level->idx) for 50 actions\n",
        "        orig_to_idx: dict mapping original action IDs -> compact indices (0..49)\n",
        "        episode_column: optional col to group episodes; if None assumes ordered by 'convo_turn'\n",
        "\n",
        "    Returns:\n",
        "        buffer: TransitionBuffer of (state, action_idx, reward, next_state, done)\n",
        "        orig_to_idx: same dict mapping original IDs -> indices (for model sizing)\n",
        "    \"\"\"\n",
        "    # Flatten meta_map into flat_idx_to_meta\n",
        "    flat_idx_to_meta = {}\n",
        "    for cat, strategies in meta_map.items():\n",
        "        for strat, levels in strategies.items():\n",
        "            for lvl, idx in levels.items():\n",
        "                flat_idx_to_meta[idx] = {\n",
        "                    'category': cat,\n",
        "                    'strategy': strat,\n",
        "                    'level': lvl\n",
        "                }\n",
        "\n",
        "    # State feature setup\n",
        "    state_feats = ['misconception_type','convo_turn','previous_action_id',\n",
        "                   'listen_to_feedback','problem_progress','progress_delta',\n",
        "                   'correct_solution','next_action_hint_strength']\n",
        "    cat_feats = ['misconception_type','previous_action_id',\n",
        "                 'listen_to_feedback','correct_solution']\n",
        "    num_feats = [f for f in state_feats if f not in cat_feats]\n",
        "\n",
        "    encoder = OneHotEncoder(sparse_output=False, handle_unknown='ignore')\n",
        "    encoder.fit(df[cat_feats])\n",
        "\n",
        "    # Group episodes\n",
        "    if episode_column:\n",
        "        episodes = df.sort_values([episode_column,'convo_turn']).groupby(episode_column)\n",
        "    else:\n",
        "        df = df.sort_values('convo_turn')\n",
        "        df['_tmp_ep'] = 1\n",
        "        episodes = df.groupby('_tmp_ep')\n",
        "\n",
        "    buffer = TransitionBuffer()\n",
        "\n",
        "    # Build transitions\n",
        "    for _, ep_df in episodes:\n",
        "        prev_state = None\n",
        "        prev_idx = None\n",
        "        prev_meta = None\n",
        "\n",
        "        for _, row in ep_df.iterrows():\n",
        "            orig_id = row.get('next_action_id')\n",
        "            if pd.isna(orig_id) or int(orig_id) not in orig_to_idx:\n",
        "                continue\n",
        "            orig_id = int(orig_id)\n",
        "            idx = orig_to_idx[orig_id]\n",
        "\n",
        "            # encode state\n",
        "            cat = encoder.transform(pd.DataFrame([row[cat_feats]], columns=cat_feats))\n",
        "            num = row[num_feats].to_numpy()\n",
        "            state = np.hstack((num, cat.flatten()))\n",
        "\n",
        "            meta = flat_idx_to_meta.get(idx)\n",
        "            # Read done flag from data\n",
        "            is_done = row.get('done', False)  # Use the actual 'done' column\n",
        "\n",
        "            if prev_state is not None:\n",
        "                r = reward_fn(prev_state, prev_idx, state, prev_meta)\n",
        "                buffer.push(prev_state, prev_idx, r, state, done=is_done)\n",
        "\n",
        "            prev_state = state\n",
        "            prev_idx = idx\n",
        "            prev_meta = meta\n",
        "    if prev_state is not None:\n",
        "      terminal_r = new_terminal(prev_state)\n",
        "      buffer.push(prev_state,\n",
        "                  prev_idx,\n",
        "                  terminal_r,\n",
        "                  prev_state,\n",
        "                  done=True)\n",
        "    # convert lists to arrays\n",
        "    buffer.states = np.array(buffer.states)\n",
        "    buffer.actions = np.array(buffer.actions, dtype=int)\n",
        "    buffer.rewards = np.array(buffer.rewards, dtype=float)\n",
        "    buffer.next_states = np.array(buffer.next_states)\n",
        "    buffer.dones = np.array(buffer.dones, dtype=bool)\n",
        "\n",
        "    return buffer, orig_to_idx\n",
        "\n",
        "\n",
        "# Maximum raw progress\n",
        "MAX_PROGRESS = 50.0\n",
        "def new_terminal(state):\n",
        "    raw_progress = state[4]  # problem_progress in state\n",
        "    normalized_progress = min(raw_progress, MAX_PROGRESS) / MAX_PROGRESS\n",
        "    # Higher reward if correct solution was achieved\n",
        "    return 5.0 if state[6] > 0 else 2.0 * normalized_progress\n",
        "\n",
        "\"\"\"\n",
        "   The big idea behind the reward function: Good tutors don't just give answers right away... they start with questions and guidance to help students think for themselves, then provide more direct help if the student struggles. This \"scaffold then tell\" approach is built into the reward function.\n",
        "\n",
        "   Key design principles:\n",
        "   1. Always reward student progress, regardless of tutor strategy\n",
        "   2. Early in a conversation: reward scaffolding (questions, focus), penalize giving answers\n",
        "   3. Later in a conversation: reduce scaffolding bonuses, reward effective direct instruction\n",
        "   4. Use a smooth transition between these phases rather than an abrupt switch\n",
        "   5. Scale penalties based on how \"telling\" the hint is (revealing answers vs gentle hints)\n",
        "   6. Keep it simple and avoid hard thresholds or complex calculations\n",
        "\n",
        "   The reward transitions happen over ~8 turns, which is carefully calibrated for our dataset:\n",
        "   - With average episode lengths of 15-25 turns, using 8 as the transition denominator makes it so that:\n",
        "     * First ~3 turns: Strong scaffolding emphasis (turn_progress < 0.4)\n",
        "     * Middle ~4 turns: Balanced transition phase (turn_progress 0.4-0.7)\n",
        "     * Remaining turns: Increasing emphasis on problem progress\n",
        "   - This 8-turn transition worked better than:\n",
        "     * 5-turn (too fast, not enough guiding emphasis)\n",
        "     * 10-turn (too slow, many episodes ended before reaching full direct instruction phase)\n",
        "\"\"\"\n",
        "def hybrid_reward(state, action_id, next_state=None, action_meta=None):\n",
        "    # Extract key state information\n",
        "    progress_delta = state[5]\n",
        "    turn = state[1]\n",
        "\n",
        "    # Core progress reward and step penalty\n",
        "    progress_reward = 5.0 * progress_delta\n",
        "    step_penalty = -0.1\n",
        "\n",
        "    # Single transition factor (0 to 1) based on turn number\n",
        "    # Represents how far into the conversation we are\n",
        "    turn_progress = min(1.0, turn / 8.0)\n",
        "\n",
        "    # Action-specific adjustment\n",
        "    strategy_bonus = 0.0\n",
        "\n",
        "    if action_meta is not None:\n",
        "        cat = action_meta['category']\n",
        "\n",
        "        # Guiding/scaffolding actions (Focus, Probing)\n",
        "        if cat in ['Focus', 'Probing']:\n",
        "            # Decreasing bonus for scaffolding actions as conversation progresses\n",
        "            strategy_bonus = 0.2 * (1.0 - turn_progress)\n",
        "\n",
        "        # Telling actions\n",
        "        elif cat == 'Telling':\n",
        "            # Simple hint severity factor\n",
        "            severity = 1.0\n",
        "            if 'strategy' in action_meta:\n",
        "                if action_meta['strategy'] == 'Full Reveal (Answer)':\n",
        "                    severity = 1.5\n",
        "                elif action_meta['strategy'] == 'Conceptual Hint':\n",
        "                    severity = 0.6\n",
        "\n",
        "            # Early: penalty for telling, Late: bonus for effective telling\n",
        "            early_penalty = -0.3 * (1.0 - turn_progress) * severity\n",
        "            late_bonus = 0.0\n",
        "            if progress_delta > 0:  # Only reward effective telling\n",
        "                late_bonus = 0.2 * turn_progress\n",
        "\n",
        "            strategy_bonus = early_penalty + late_bonus\n",
        "\n",
        "    return progress_reward + step_penalty + strategy_bonus\n"
      ],
      "metadata": {
        "id": "LHnf2KTx5xq6"
      },
      "execution_count": null,
      "outputs": []
    },
    {
      "cell_type": "code",
      "source": [
        "\"\"\"\n",
        "Asking: if we started from this random state in the buffer and followed the agent's policy, what rewards would the agent have earned if the environment happened to transition exactly as recorded in the buffer?\n",
        "\n",
        "Terminates if the conversation is done, or by max steps (should be 80), or if the buffer ends\n",
        "\"\"\"\n",
        "def evaluate_policy(agent, buffer, reward_fn, num_episodes=20, max_steps=80, gamma=0.99, action_meta_map=None):\n",
        "    \"\"\"\n",
        "    Evaluate a policy (BC or CQL) on the transition buffer\n",
        "    Runs multiple simulated episodes, compute the total reward earned in each episode and report stats\n",
        "\n",
        "    Args:\n",
        "        agent: Policy with select_action method (BC or CQL)\n",
        "        buffer: TransitionBuffer with states, actions, rewards\n",
        "        reward_fn: Function to compute rewards\n",
        "        num_episodes: Number of episodes to evaluate\n",
        "        max_steps: Maximum steps per episode\n",
        "        gamma: Discount factor\n",
        "        action_meta_map: Dictionary mapping action indices to metadata\n",
        "\n",
        "    Returns:\n",
        "        mean_return: Average return across episodes\n",
        "        all_returns: List of returns for each episode\n",
        "    \"\"\"\n",
        "    # Put model in eval mode if it has the attribute\n",
        "    if hasattr(agent, 'q_net') and hasattr(agent.q_net, 'eval'):\n",
        "        agent.q_net.eval()\n",
        "    elif hasattr(agent, 'model') and hasattr(agent.model, 'eval'):\n",
        "        agent.model.eval()\n",
        "\n",
        "    # Create a flat map from action indices to metadata for easy lookup\n",
        "    flat_idx_to_meta = {}\n",
        "    if action_meta_map:\n",
        "        for cat, strategies in action_meta_map.items():\n",
        "            for strat, levels in strategies.items():\n",
        "                for lvl, idx in levels.items():\n",
        "                    flat_idx_to_meta[idx] = {\n",
        "                        'category': cat,\n",
        "                        'strategy': strat,\n",
        "                        'level': lvl\n",
        "                    }\n",
        "\n",
        "    total_returns = []\n",
        "    episode_lengths = []\n",
        "    termination_reasons = {\"max_steps\": 0, \"done\": 0, \"buffer_end\": 0}\n",
        "\n",
        "    # Print buffer inspection info\n",
        "    # print(\"\\nBuffer inspection:\")\n",
        "    # print(f\"  Buffer length: {len(buffer)}\")\n",
        "    # if hasattr(buffer, 'dones'):\n",
        "    #     dones_count = sum(buffer.dones)\n",
        "    #     print(f\"  Done flags: {dones_count} out of {len(buffer.dones)} ({dones_count/len(buffer.dones)*100:.2f}%)\")\n",
        "    # else:\n",
        "    #     print(\"  No 'dones' attribute found in buffer.\")\n",
        "\n",
        "    # Create episodes by sampling starting states\n",
        "\n",
        "    \"\"\"\n",
        "    The agent can choose its actions, but the enviornment transitions are constrained to what already exists in the buffer\n",
        "    \"\"\"\n",
        "    for ep in range(num_episodes):\n",
        "        # Sample a random starting state\n",
        "        start_idx = np.random.randint(0, len(buffer) - max_steps)\n",
        "\n",
        "        # Make sure we get a NumPy array (handle both tensor and numpy inputs)\n",
        "        if isinstance(buffer.states[start_idx], torch.Tensor):\n",
        "            state = buffer.states[start_idx].cpu().numpy()\n",
        "        else:\n",
        "            state = buffer.states[start_idx].copy()\n",
        "\n",
        "        episode_return = 0\n",
        "        episode_length = 0\n",
        "        discount = 1.0\n",
        "\n",
        "        # Print starting state info\n",
        "        # print(f\"\\nEpisode {ep+1}:\")\n",
        "        # print(f\"  Starting index: {start_idx}\")\n",
        "        # print(f\"  Initial state features (first 5): {state[:5]}\")\n",
        "\n",
        "        for step in range(max_steps):\n",
        "            # Select action using the policy\n",
        "            action_idx = agent.select_action(state)\n",
        "\n",
        "            # Get next state by sampling from buffer\n",
        "            \"\"\"\n",
        "            Chosen action is ignored, just move sequentially through buffer\n",
        "            Rewards are calculated by the action the agent chose, though\n",
        "            \"\"\"\n",
        "            next_idx = min(start_idx + step + 1, len(buffer) - 1)\n",
        "\n",
        "            # Make sure I get a numpy array for the next state\n",
        "            if isinstance(buffer.states[next_idx], torch.Tensor):\n",
        "                next_state = buffer.states[next_idx].cpu().numpy()\n",
        "            else:\n",
        "                next_state = buffer.states[next_idx].copy()\n",
        "\n",
        "            # Check for done flag\n",
        "            done = False\n",
        "            if hasattr(buffer, 'dones') and len(buffer.dones) > next_idx:\n",
        "                done = buffer.dones[next_idx]\n",
        "\n",
        "            # Get action metadata if available\n",
        "            action_meta = None\n",
        "            if action_meta_map:\n",
        "                # Use the already-created mapping instead of recreating it\n",
        "                action_meta = flat_idx_to_meta.get(action_idx)\n",
        "\n",
        "            # Compute reward\n",
        "            reward = reward_fn(state, action_idx, next_state, action_meta)\n",
        "\n",
        "            # Update return\n",
        "            episode_return += discount * reward\n",
        "            discount *= gamma\n",
        "            episode_length += 1\n",
        "\n",
        "            # Update state\n",
        "            state = next_state\n",
        "\n",
        "            # Check for termination due to done flag\n",
        "            if done:\n",
        "                termination_reasons[\"done\"] += 1\n",
        "                # print(f\"  Episode terminated due to done flag at step {step+1}\")\n",
        "                break\n",
        "\n",
        "            # Check for termination due to max steps\n",
        "            if step >= max_steps - 1:\n",
        "                termination_reasons[\"max_steps\"] += 1\n",
        "                break\n",
        "\n",
        "            # Check if reached the end of the buffer\n",
        "            if next_idx >= len(buffer) - 1:\n",
        "                termination_reasons[\"buffer_end\"] += 1\n",
        "                # print(f\"  Episode terminated due to buffer end at step {step+1}\")\n",
        "                break\n",
        "\n",
        "        total_returns.append(episode_return)\n",
        "        episode_lengths.append(episode_length)\n",
        "\n",
        "        # Print episode summary\n",
        "        # print(f\"  Episode {ep+1} summary:\")\n",
        "        # print(f\"    Return: {episode_return:.2f}\")\n",
        "        # print(f\"    Length: {episode_length}\")\n",
        "\n",
        "    mean_return = np.mean(total_returns)\n",
        "    std_return = np.std(total_returns)\n",
        "\n",
        "    print(f\"\\nEvaluation over {num_episodes} episodes:\")\n",
        "    print(f\"  Mean return: {mean_return:.4f} ± {std_return:.4f}\")\n",
        "    print(f\"  Mean episode length: {np.mean(episode_lengths):.2f}\")\n",
        "    print(f\"  Termination reasons: {termination_reasons}\")\n",
        "\n",
        "    return mean_return, total_returns"
      ],
      "metadata": {
        "id": "PkE1cL-G6Avt"
      },
      "execution_count": null,
      "outputs": []
    },
    {
      "cell_type": "code",
      "source": [
        "\"\"\"\n",
        "A class to wrap the BC model to make it more compatible with the evaluation framework\n",
        "1. Takes a trained BC model and an action mapping dictionary\n",
        "2. Has a select_action method that takes a state and returns an action index\n",
        "\"\"\"\n",
        "class BCPolicyWrapper:\n",
        "    def __init__(self, model, action_map, device=\"cpu\"):\n",
        "        self.model = model.to(device)\n",
        "        # Also create q_net reference for compatibility with CQL interface\n",
        "        self.q_net = self.model  # Alias for compatibility\n",
        "        self.inv_map = {v: k for k, v in action_map.items()}\n",
        "        self.device = device\n",
        "\n",
        "    def select_action(self, state):\n",
        "        \"\"\"Select best action according to BC policy\"\"\"\n",
        "        # Convert state to tensor if it's not already\n",
        "        if not isinstance(state, torch.Tensor):\n",
        "            state = torch.FloatTensor(state).unsqueeze(0).to(self.device)\n",
        "        else:\n",
        "            # If already tensor, ensure it has batch dimension and is on correct device\n",
        "            if state.dim() == 1:\n",
        "                state = state.unsqueeze(0)\n",
        "            state = state.to(self.device)\n",
        "        # Return the action with the highest logit value (highest prob)\n",
        "        with torch.no_grad():\n",
        "            logits = self.model(state)\n",
        "            action = logits.argmax(dim=1).item()\n",
        "        return action\n",
        "\n",
        "def main():\n",
        "    # Load trained BC model\n",
        "    input_dim = 64  # Based on your output\n",
        "    model = BCModel(input_dim=input_dim, output_dim=50)\n",
        "    model.load_state_dict(torch.load('best_bc_model.pt'))\n",
        "\n",
        "    # Load data and preprocess it as before\n",
        "    csv_file_path = \"data.csv\"\n",
        "    train_states, val_states, train_actions, val_actions, num_actions = prepare_data_for_bc(csv_file_path)\n",
        "\n",
        "    # Create datasets and loaders\n",
        "    train_ds = TutorDataset(train_states, train_actions)\n",
        "    val_ds = TutorDataset(val_states, val_actions)\n",
        "    val_loader = DataLoader(val_ds, batch_size=128)\n",
        "\n",
        "    # Use the predefined action mappings from system\n",
        "    action_map = {0: 0, 1: 1, 2: 2, 3: 3, 5: 4, 6: 5, 7: 6, 8: 7, 11: 8, 12: 9,\n",
        "              13: 10, 16: 11, 17: 12, 18: 13, 20: 14, 21: 15, 22: 16, 23: 17,\n",
        "              26: 18, 27: 19, 28: 20, 31: 21, 32: 22, 36: 23, 37: 24, 38: 25,\n",
        "              41: 26, 42: 27, 43: 28, 45: 29, 46: 30, 47: 31, 48: 32, 54: 33,\n",
        "              55: 34, 56: 35, 57: 36, 58: 37, 59: 38, 60: 39, 65: 40, 66: 41,\n",
        "              67: 42, 70: 43, 71: 44, 72: 45, 73: 46, 75: 47, 76: 48, 77: 49}\n",
        "\n",
        "    # Define the action metadata map\n",
        "    action_meta_map = {\n",
        "        \"Focus\": {\n",
        "            \"Seek Next Step\": {1: 0, 2: 1, 3: 2},\n",
        "            \"Confirm Calculation\": {1: 5, 2: 6, 3: 7, 4: 8},\n",
        "            \"Re-direct to Sub-Problem\": {2: 11, 3: 12, 4: 13},\n",
        "            \"Highlight Missing Info\": {2: 16, 3: 17, 4: 18}\n",
        "        },\n",
        "        \"Probing\": {\n",
        "            \"Ask for Explanation\": {1: 20, 2: 21, 3: 22, 4: 23},\n",
        "            \"Seek Self-Correction\": {2: 26, 3: 27, 4: 28},\n",
        "            \"Hypothetical Variation\": {2: 31, 3: 32},\n",
        "            \"Check Understanding/Concept\": {2: 36, 3: 37, 4: 38},\n",
        "            \"Encourage Comparison\": {2: 41, 3: 42, 4: 43}\n",
        "        },\n",
        "        \"Telling\": {\n",
        "            \"Partial Reveal (Strategy)\": {1: 45, 2: 46, 3: 47, 4: 48},\n",
        "            \"Full Reveal (Answer)\": {1: 54, 2: 55, 3: 56, 4: 57, 5: 58, 6: 59},\n",
        "            \"Corrective Explanation\": {1: 60}\n",
        "        },\n",
        "        \"Generic\": {\n",
        "            \"Acknowledgment/Praise\": {1: 65, 2: 66, 3: 67},\n",
        "            \"Summarize Progress\": {1: 70, 2: 71, 3: 72, 4: 73},\n",
        "            \"General Inquiry/Filler\": {1: 75, 2: 76, 3: 77}\n",
        "        }\n",
        "    }\n",
        "\n",
        "    feature_names = [\n",
        "        'misconception_type', 'convo_turn', 'previous_action_id',\n",
        "        'listen_to_feedback', 'problem_progress', 'progress_delta',\n",
        "        'correct_solution', 'next_action_hint_strength'\n",
        "    ]\n",
        "\n",
        "\n",
        "    # Run off-policy evaluation using the fixed function\n",
        "    print(\"\\nEvaluating BC policy performance:\")\n",
        "\n",
        "    # First build the transition buffer with all required parameters\n",
        "    df = pd.read_csv(csv_file_path)\n",
        "\n",
        "    buffer, action_mapping = build_transition_buffer(\n",
        "        df=df,\n",
        "        reward_fn=hybrid_reward,\n",
        "        meta_map=action_meta_map,\n",
        "        orig_to_idx=action_map,\n",
        "        episode_column=None\n",
        "    )\n",
        "\n",
        "    # Create a BC policy wrapper for evaluation\n",
        "    bc_agent = BCPolicyWrapper(model, action_map)\n",
        "\n",
        "    # Evaluate the policy using the fixed function\n",
        "    mean_return, episode_returns = evaluate_policy(\n",
        "        agent=bc_agent,\n",
        "        buffer=buffer,\n",
        "        reward_fn=hybrid_reward,\n",
        "        num_episodes=50,\n",
        "        max_steps=80,\n",
        "        action_meta_map=action_meta_map\n",
        "    )\n",
        "\n",
        "    # Print summary statistics about the buffer\n",
        "    print(\"\\nTransition Buffer Statistics:\")\n",
        "    print(f\"Total transitions: {len(buffer)}\")\n",
        "    print(f\"State dimension: {buffer.states.shape[1]}\")\n",
        "    print(f\"Number of unique actions: {len(set(buffer.actions))}\")\n",
        "\n",
        "\n",
        "    print(f\"Baseline BC policy return: {mean_return:.4f}\")\n",
        "    print(f\"Episode return std: {np.std(episode_returns):.4f}\")\n",
        "\n",
        "    # Plot the distribution of returns\n",
        "    plt.figure(figsize=(10, 6))\n",
        "    plt.hist(episode_returns, bins=20, alpha=0.7)\n",
        "    plt.xlabel('Episode Return')\n",
        "    plt.ylabel('Frequency')\n",
        "    plt.title('Distribution of BC Policy Returns')\n",
        "    plt.grid(True, linestyle='--', alpha=0.7)\n",
        "    plt.savefig('bc_returns_distribution.png')\n",
        "    plt.show()\n",
        "    plt.close()\n",
        "\n",
        "if __name__ == \"__main__\":\n",
        "    main()"
      ],
      "metadata": {
        "colab": {
          "base_uri": "https://localhost:8080/",
          "height": 733
        },
        "id": "MP-A_ueK6B2W",
        "outputId": "28408f92-2503-4078-ff97-aa2d0f23f27d"
      },
      "execution_count": null,
      "outputs": [
        {
          "output_type": "stream",
          "name": "stdout",
          "text": [
            "\n",
            "Evaluating BC policy performance:\n",
            "\n",
            "Evaluation over 50 episodes:\n",
            "  Mean return: 17.3618 ± 18.9594\n",
            "  Mean episode length: 23.86\n",
            "  Termination reasons: {'max_steps': 11, 'done': 39, 'buffer_end': 0}\n",
            "\n",
            "Transition Buffer Statistics:\n",
            "Total transitions: 12017\n",
            "State dimension: 64\n",
            "Number of unique actions: 50\n",
            "Baseline BC policy return: 17.3618\n",
            "Episode return std: 18.9594\n"
          ]
        },
        {
          "output_type": "display_data",
          "data": {
            "text/plain": [
              "<Figure size 1000x600 with 1 Axes>"
            ],
            "image/png": "[encoded data removed]"
          },
          "metadata": {}
        }
      ]
    },
    {
      "cell_type": "code",
      "source": [
        "class QNetwork(nn.Module):\n",
        "    def __init__(self, input_dim, output_dim, hidden_dim=256):\n",
        "        super().__init__()\n",
        "        self.net = nn.Sequential(\n",
        "            nn.Linear(input_dim, hidden_dim),\n",
        "            nn.ReLU(),\n",
        "            nn.Linear(hidden_dim, hidden_dim),\n",
        "            nn.ReLU(),\n",
        "            nn.Linear(hidden_dim, output_dim)\n",
        "        )\n",
        "\n",
        "    def forward(self, x):\n",
        "        return self.net(x)\n",
        "\"\"\"\n",
        "Why CQL?\n",
        "It's offline and good to ensure a conservatively learned policy - don't overestimate out of distribution action rewards.\n",
        "\n",
        "Vanilla QL overestimates values for unseen (s,a) pairs, and so CQL adds a regularization term that penalizes Q values for actions not seen in the dataset to make the policy more conservative. This is important in educaitonal settings that can affect student learning outcomes. Also, we don't have a good simulator to interact with the environment.\n",
        "\"\"\"\n",
        "class CQLAgent:\n",
        "    def __init__(\n",
        "        self,\n",
        "        state_dim,\n",
        "        action_dim,\n",
        "        hidden_dim=256,\n",
        "        lr=3e-4,\n",
        "        gamma=0.99,\n",
        "        tau=0.005,\n",
        "        cql_alpha=1.0,\n",
        "        device=\"cuda\" if torch.cuda.is_available() else \"cpu\"\n",
        "    ):\n",
        "        self.action_dim = action_dim\n",
        "        self.gamma = gamma\n",
        "        self.tau = tau\n",
        "        self.cql_alpha = cql_alpha\n",
        "        self.device = device\n",
        "\n",
        "        # 2 Q-networks, target network used for stable learning\n",
        "        self.q_net = QNetwork(state_dim, action_dim, hidden_dim).to(device)\n",
        "        self.target_q_net = QNetwork(state_dim, action_dim, hidden_dim).to(device)\n",
        "        self.target_q_net.load_state_dict(self.q_net.state_dict())\n",
        "\n",
        "        # Freeze target network (prevent moving target problem)\n",
        "        for param in self.target_q_net.parameters():\n",
        "            param.requires_grad = False\n",
        "\n",
        "        self.optimizer = optim.Adam(self.q_net.parameters(), lr=lr)\n",
        "\n",
        "        self.training_stats = {\n",
        "            'q_loss': [],\n",
        "            'cql_loss': [],\n",
        "            'total_loss': [],\n",
        "            'avg_q_values': []\n",
        "        }\n",
        "\n",
        "    def select_action(self, state):\n",
        "        # Select the best action according to the Q-network\n",
        "        with torch.no_grad():\n",
        "            state = torch.FloatTensor(state).unsqueeze(0).to(self.device)\n",
        "            q_values = self.q_net(state)\n",
        "            action = q_values.argmax(dim=1).item()\n",
        "        return action\n",
        "    # MOST IMPORTANT!\n",
        "    def update(self, batch):\n",
        "        # update the Q network using CQL loss\n",
        "        states, actions, rewards, next_states, dones = batch\n",
        "        states = states.to(self.device)\n",
        "        actions = actions.to(self.device)\n",
        "        rewards = rewards.to(self.device)\n",
        "        next_states = next_states.to(self.device)\n",
        "        dones = dones.to(self.device)\n",
        "\n",
        "        batch_size = states.shape[0]\n",
        "\n",
        "        # Compute Q values and target Q values\n",
        "        q_values = self.q_net(states)\n",
        "        with torch.no_grad():\n",
        "            next_q_values = self.target_q_net(next_states)\n",
        "            next_actions = next_q_values.argmax(dim=1)\n",
        "            next_q = next_q_values.gather(1, next_actions.unsqueeze(1)).squeeze()\n",
        "            target_q = rewards + (1 - dones) * self.gamma * next_q\n",
        "\n",
        "        # TD error for the sampled actions (like vanilla Q learning)\n",
        "        # Standard Bellman error\n",
        "        q_values_sampled = q_values.gather(1, actions.unsqueeze(1)).squeeze() # selects the Q values corresponding to the specific action indices that were chosen in the offline dataset (the action demonstrated by the expert at that state)\n",
        "        td_loss = F.mse_loss(q_values_sampled, target_q)\n",
        "\n",
        "        # CQL loss: Minimize Q values for actions not in the dataset\n",
        "        # This implementation follows the simplified CQL version\n",
        "        logsumexp_q = torch.logsumexp(q_values, dim=1)\n",
        "        \"\"\"\n",
        "        logSumExp(x₁, x₂, ..., xₙ) = log(exp(x₁) + exp(x₂) + ... + exp(xₙ))\n",
        "        A smooth approximation of the maximum function across the action dimension. When one value is significantly larger than the others, it dominates the sum inside the log (and is differentiable)\n",
        "        \"\"\"\n",
        "\n",
        "\n",
        "        # logsumexp_q is the 'soft' maximum Q value across all actions for each state\n",
        "        # q_values_sampled is the Q value for the actions in the dataset (actions demonstrated by the expert)\n",
        "        cql_loss = (logsumexp_q - q_values_sampled).mean()\n",
        "        \"\"\"\n",
        "        When the difference between the max  over all action values for each state and the q val of demonstrated actions is LARGE, it means the model is overestimating Q values for actions not in the dataset.\n",
        "        Th CQL objective is to MINIMIZE this difference by penalizing the model for overestimation.\n",
        "\n",
        "        This pushes Q values down for all non-dataset actions while preserving the values for actions the expert tutors actually took.\n",
        "        \"\"\"\n",
        "        # Total loss\n",
        "        loss = td_loss + self.cql_alpha * cql_loss # add cql regularization term\n",
        "\n",
        "        # Optimize\n",
        "        self.optimizer.zero_grad()\n",
        "        loss.backward()\n",
        "        self.optimizer.step()\n",
        "\n",
        "        # Update target network, periodic updates (low tau, low updates) for stable learning\n",
        "        for param, target_param in zip(self.q_net.parameters(), self.target_q_net.parameters()):\n",
        "            target_param.data.copy_(self.tau * param.data + (1 - self.tau) * target_param.data)\n",
        "\n",
        "        # Record statistics\n",
        "        self.training_stats['q_loss'].append(td_loss.item())\n",
        "        self.training_stats['cql_loss'].append(cql_loss.item())\n",
        "        self.training_stats['total_loss'].append(loss.item())\n",
        "        self.training_stats['avg_q_values'].append(q_values.mean().item())\n",
        "\n",
        "        return td_loss.item(), cql_loss.item(), loss.item()\n",
        "\n",
        "    def save(self, path):\n",
        "        \"\"\"Save the Q-network model\"\"\"\n",
        "        torch.save({\n",
        "            'q_net': self.q_net.state_dict(),\n",
        "            'target_q_net': self.target_q_net.state_dict(),\n",
        "            'optimizer': self.optimizer.state_dict(),\n",
        "            'training_stats': self.training_stats\n",
        "        }, path)\n",
        "\n",
        "    def load(self, path):\n",
        "        \"\"\"Load the Q-network model\"\"\"\n",
        "        checkpoint = torch.load(path)\n",
        "        self.q_net.load_state_dict(checkpoint['q_net'])\n",
        "        self.target_q_net.load_state_dict(checkpoint['target_q_net'])\n",
        "        self.optimizer.load_state_dict(checkpoint['optimizer'])\n",
        "        self.training_stats = checkpoint['training_stats']\n",
        "\n",
        "    def plot_training_curves(self):\n",
        "        \"\"\"Plot the training curves\"\"\"\n",
        "        fig, axs = plt.subplots(2, 2, figsize=(15, 10))\n",
        "\n",
        "        # Plot Q loss\n",
        "        axs[0, 0].plot(self.training_stats['q_loss'])\n",
        "        axs[0, 0].set_title('TD Loss')\n",
        "        axs[0, 0].set_xlabel('Updates')\n",
        "        axs[0, 0].set_ylabel('Loss')\n",
        "\n",
        "        # Plot CQL loss\n",
        "        axs[0, 1].plot(self.training_stats['cql_loss'])\n",
        "        axs[0, 1].set_title('CQL Loss')\n",
        "        axs[0, 1].set_xlabel('Updates')\n",
        "        axs[0, 1].set_ylabel('Loss')\n",
        "\n",
        "        # Plot total loss\n",
        "        axs[1, 0].plot(self.training_stats['total_loss'])\n",
        "        axs[1, 0].set_title('Total Loss')\n",
        "        axs[1, 0].set_xlabel('Updates')\n",
        "        axs[1, 0].set_ylabel('Loss')\n",
        "\n",
        "        # Plot average Q values\n",
        "        axs[1, 1].plot(self.training_stats['avg_q_values'])\n",
        "        axs[1, 1].set_title('Average Q Values')\n",
        "        axs[1, 1].set_xlabel('Updates')\n",
        "        axs[1, 1].set_ylabel('Q Value')\n",
        "\n",
        "        plt.tight_layout()\n",
        "        plt.savefig('cql_training_curves.png')\n",
        "        plt.close()\n",
        "\n",
        "def prepare_buffer_for_training(buffer, batch_size=128, action_map=None):\n",
        "    \"\"\"Convert the transition buffer to PyTorch tensors for training\"\"\"\n",
        "    states = torch.FloatTensor(np.array(buffer.states))\n",
        "\n",
        "    # Map original action IDs -> model indices\n",
        "    if action_map:\n",
        "        mapped_actions = [action_map.get(a, 0) for a in buffer.actions]\n",
        "        actions = torch.LongTensor(mapped_actions)\n",
        "    else:\n",
        "        actions = torch.LongTensor(buffer.actions)\n",
        "\n",
        "    rewards = torch.FloatTensor(np.array(buffer.rewards))\n",
        "    next_states = torch.FloatTensor(np.array(buffer.next_states))\n",
        "    dones = torch.FloatTensor(np.array(buffer.dones))\n",
        "\n",
        "    dataset = TensorDataset(states, actions, rewards, next_states, dones)\n",
        "    return DataLoader(dataset, batch_size=batch_size, shuffle=True)\n",
        "\n",
        "\n",
        "\"\"\"\n",
        "Train a CQL agent on the given transition buffer\n",
        "1. Prepare data from the transition buffer\n",
        "2. Initialize the CQL agent\n",
        "3. Train over multiple epochs\n",
        "4. Periodically evaluate performance\n",
        "4. Save the best model\n",
        "\"\"\"\n",
        "def train_cql(buffer, state_dim, action_dim, num_epochs=100, batch_size=128,\n",
        "              hidden_dim=256, lr=3e-4, gamma=0.99, tau=0.005, cql_alpha=1.0,\n",
        "              eval_interval=5, model_save_path='cql_agent.pt', action_map=None, action_meta_map=None):\n",
        "    # Prepare data\n",
        "    dataloader = prepare_buffer_for_training(buffer, batch_size, action_map)\n",
        "\n",
        "    # Initialize agent\n",
        "    agent = CQLAgent(\n",
        "        state_dim=state_dim,\n",
        "        action_dim=action_dim,\n",
        "        hidden_dim=hidden_dim,\n",
        "        lr=lr,\n",
        "        gamma=gamma,\n",
        "        tau=tau,\n",
        "        cql_alpha=cql_alpha\n",
        "    )\n",
        "\n",
        "    print(f\"Training CQL agent with {len(buffer)} transitions\")\n",
        "    print(f\"State dim: {state_dim}, Action dim: {action_dim}\")\n",
        "    print(f\"CQL alpha: {cql_alpha}, Learning rate: {lr}\")\n",
        "\n",
        "    # Training loop\n",
        "    best_eval_return = -float('inf')\n",
        "\n",
        "    for epoch in range(num_epochs):\n",
        "        epoch_td_loss = 0\n",
        "        epoch_cql_loss = 0\n",
        "        epoch_total_loss = 0\n",
        "        num_batches = 0\n",
        "\n",
        "        # Training\n",
        "        agent.q_net.train()\n",
        "        progress_bar = tqdm(dataloader, desc=f\"Epoch {epoch+1}/{num_epochs}\")\n",
        "\n",
        "        for batch in progress_bar:\n",
        "            td_loss, cql_loss, total_loss = agent.update(batch)\n",
        "            epoch_td_loss += td_loss\n",
        "            epoch_cql_loss += cql_loss\n",
        "            epoch_total_loss += total_loss\n",
        "            num_batches += 1\n",
        "\n",
        "            progress_bar.set_postfix({\n",
        "                'td_loss': td_loss,\n",
        "                'cql_loss': cql_loss,\n",
        "                'total_loss': total_loss\n",
        "            })\n",
        "\n",
        "        # Calculate average losses\n",
        "        epoch_td_loss /= num_batches\n",
        "        epoch_cql_loss /= num_batches\n",
        "        epoch_total_loss /= num_batches\n",
        "\n",
        "        print(f\"\\nEpoch {epoch+1}/{num_epochs} - TD Loss: {epoch_td_loss:.4f}, \"\n",
        "              f\"CQL Loss: {epoch_cql_loss:.4f}, Total Loss: {epoch_total_loss:.4f}\")\n",
        "\n",
        "        # Evaluation\n",
        "        if (epoch + 1) % eval_interval == 0:\n",
        "            # Evaluate the policy using the fixed function\n",
        "            mean_return, _ = evaluate_policy(\n",
        "                agent=agent,\n",
        "                buffer=buffer,\n",
        "                reward_fn=hybrid_reward,\n",
        "                num_episodes=20,\n",
        "                max_steps=80,\n",
        "                action_meta_map=action_meta_map\n",
        "            )\n",
        "            print(f\"Evaluation - Mean Return: {mean_return:.4f}\")\n",
        "\n",
        "            # Save best model\n",
        "            if mean_return > best_eval_return:\n",
        "                best_eval_return = mean_return\n",
        "                agent.save(model_save_path)\n",
        "                print(f\"New best model saved with return: {best_eval_return:.4f}\")\n",
        "\n",
        "    # Plot training curves\n",
        "    agent.plot_training_curves()\n",
        "\n",
        "    # Load the best model for final evaluation\n",
        "    agent.load(model_save_path)\n",
        "    # Unpack the tuple here too\n",
        "    final_mean_return, final_returns = evaluate_policy(\n",
        "        agent=agent,\n",
        "        buffer=buffer,\n",
        "        reward_fn=hybrid_reward,\n",
        "        num_episodes=50,\n",
        "        max_steps=60\n",
        "    )\n",
        "    print(f\"\\nFinal Evaluation - Mean Return: {final_mean_return:.4f}\")\n",
        "\n",
        "    return agent\n",
        "\n",
        "\n",
        "\"\"\"\n",
        "Initialize a CQL agent using weights from a pre-trained BC model\n",
        "Motivation: to give CQL a good starting point, since BC has already learning meaningful state representations (warm start)\n",
        "\"\"\"\n",
        "def convert_bc_to_cql_model(bc_model, action_dim):\n",
        "    # Get the input dimension from the BC model\n",
        "    input_dim = bc_model.net[0].in_features\n",
        "\n",
        "    # Create a CQL agent with the same dimensions\n",
        "    cql_agent = CQLAgent(state_dim=input_dim, action_dim=action_dim)\n",
        "\n",
        "    # Copy the feature extractor weights (first two layers)\n",
        "    cql_agent.q_net.net[0].weight.data.copy_(bc_model.net[0].weight.data)\n",
        "    cql_agent.q_net.net[0].bias.data.copy_(bc_model.net[0].bias.data)\n",
        "    cql_agent.q_net.net[2].weight.data.copy_(bc_model.net[2].weight.data)\n",
        "    cql_agent.q_net.net[2].bias.data.copy_(bc_model.net[2].bias.data)\n",
        "\n",
        "    # Initialize the Q-value layer\n",
        "    # The output dimension will be different, so can't copy directly\n",
        "\n",
        "    # Copy to target network\n",
        "    cql_agent.target_q_net.load_state_dict(cql_agent.q_net.state_dict())\n",
        "\n",
        "    return cql_agent"
      ],
      "metadata": {
        "id": "X7GUPxJf6DEi"
      },
      "execution_count": null,
      "outputs": []
    },
    {
      "cell_type": "code",
      "source": [
        "from scipy import stats\n",
        "from torch.utils.data import DataLoader, TensorDataset\n",
        "from tqdm import tqdm\n",
        "\n",
        "\"\"\"\n",
        "Run all three models on same start sequence with discount factor of 0.98\n",
        "\"\"\"\n",
        "def evaluate_all_models_on_same_states(bc_agent, cql_agent, bc_init_cql_agent, buffer, reward_fn, num_episodes=50, max_steps=80, action_meta_map=None):\n",
        "    print(f\"\\nEvaluating {num_episodes} episodes with same starting states for all models:\")\n",
        "\n",
        "    # Create flat mapping for metadata\n",
        "    flat_idx_to_meta = {}\n",
        "    if action_meta_map:\n",
        "        for cat, strategies in action_meta_map.items():\n",
        "            for strat, levels in strategies.items():\n",
        "                for lvl, idx in levels.items():\n",
        "                    flat_idx_to_meta[idx] = {\n",
        "                        'category': cat,\n",
        "                        'strategy': strat,\n",
        "                        'level': lvl\n",
        "                    }\n",
        "\n",
        "    # Generate random starting indices for all episodes\n",
        "    start_indices = np.random.randint(0, len(buffer) - max_steps, size=num_episodes)\n",
        "\n",
        "    # Initialize arrays to store results\n",
        "    bc_returns = np.zeros(num_episodes)\n",
        "    cql_returns = np.zeros(num_episodes)\n",
        "    bc_init_returns = np.zeros(num_episodes)\n",
        "\n",
        "    # Evaluate each episode\n",
        "    for ep_idx, start_idx in enumerate(tqdm(start_indices)):\n",
        "        # Process same starting state for each model\n",
        "        for model_idx, (agent, returns_array) in enumerate([\n",
        "            (bc_agent, bc_returns),\n",
        "            (cql_agent, cql_returns),\n",
        "            (bc_init_cql_agent, bc_init_returns)\n",
        "        ]):\n",
        "            # Get initial state\n",
        "            state = buffer.states[start_idx].copy()\n",
        "\n",
        "            # Initialize episode tracking\n",
        "            episode_return = 0\n",
        "            discount = 1.0\n",
        "\n",
        "            # Run the episode\n",
        "            for step in range(max_steps):\n",
        "                # Select action using the policy\n",
        "                action_idx = agent.select_action(state)\n",
        "\n",
        "                # Get next state by sampling from buffer\n",
        "                next_idx = min(start_idx + step + 1, len(buffer) - 1)\n",
        "                next_state = buffer.states[next_idx].copy()\n",
        "\n",
        "                # Check for done flag\n",
        "                done = False\n",
        "                if hasattr(buffer, 'dones') and len(buffer.dones) > next_idx:\n",
        "                    done = buffer.dones[next_idx]\n",
        "\n",
        "                # Get action metadata if available\n",
        "                action_meta = flat_idx_to_meta.get(action_idx, None)\n",
        "\n",
        "                # Compute reward\n",
        "                reward = reward_fn(state, action_idx, next_state, action_meta)\n",
        "\n",
        "                # Update return\n",
        "                episode_return += discount * reward\n",
        "                discount *= 0.98  # Use gamma from training\n",
        "\n",
        "                # Update state\n",
        "                state = next_state\n",
        "\n",
        "                # Check termination conditions\n",
        "                if done or next_idx >= len(buffer) - 1:\n",
        "                    break\n",
        "\n",
        "            # Store the return for this model and episode\n",
        "            returns_array[ep_idx] = episode_return\n",
        "\n",
        "    return bc_returns, cql_returns, bc_init_returns\n",
        "\n",
        "\"\"\"\n",
        "Perform paired t-tests to check for statistical significance\n",
        "\"\"\"\n",
        "def perform_paired_t_test(bc_returns, cql_returns, bc_init_returns):\n",
        "    # BC vs CQL\n",
        "    bc_cql_t, bc_cql_p = stats.ttest_rel(bc_returns, cql_returns)\n",
        "\n",
        "    # BC vs BC-Init CQL\n",
        "    bc_init_t, bc_init_p = stats.ttest_rel(bc_returns, bc_init_returns)\n",
        "\n",
        "    # CQL vs BC-Init CQL\n",
        "    cql_init_t, cql_init_p = stats.ttest_rel(cql_returns, bc_init_returns)\n",
        "\n",
        "    print(\"\\nPaired t-test results:\")\n",
        "    print(f\"BC vs CQL:          t={bc_cql_t:.4f}, p={bc_cql_p:.4f} {'(significant)' if bc_cql_p < 0.05 else '(not significant)'}\")\n",
        "    print(f\"BC vs BC-init CQL:  t={bc_init_t:.4f}, p={bc_init_p:.4f} {'(significant)' if bc_init_p < 0.05 else '(not significant)'}\")\n",
        "    print(f\"CQL vs BC-init CQL: t={cql_init_t:.4f}, p={cql_init_p:.4f} {'(significant)' if cql_init_p < 0.05 else '(not significant)'}\")\n",
        "\n",
        "    return {\n",
        "        'bc_cql': (bc_cql_t, bc_cql_p),\n",
        "        'bc_init': (bc_init_t, bc_init_p),\n",
        "        'cql_init': (cql_init_t, cql_init_p)\n",
        "    }\n",
        "\n",
        "\n",
        "def plot_returns_comparison(bc_returns, cql_returns, bc_init_returns):\n",
        "    \"\"\"\n",
        "    Create a box plot comparing the return distributions of all models\n",
        "    \"\"\"\n",
        "    plt.figure(figsize=(10, 6))\n",
        "\n",
        "    data = [bc_returns, cql_returns, bc_init_returns]\n",
        "    labels = ['BC', 'CQL', 'BC-init CQL']\n",
        "\n",
        "    box = plt.boxplot(data, patch_artist=True, labels=labels)\n",
        "    colors = ['lightblue', 'lightgreen', 'lightpink']\n",
        "    for patch, color in zip(box['boxes'], colors):\n",
        "        patch.set_facecolor(color)\n",
        "\n",
        "    for i, d in enumerate(data):\n",
        "        plt.scatter(i+1, np.mean(d), marker='o', color='red', s=50, zorder=10)\n",
        "\n",
        "    plt.ylabel('Return')\n",
        "    plt.title('Distribution of Returns by Model')\n",
        "    plt.grid(True, linestyle='--', alpha=0.7)\n",
        "\n",
        "    plt.savefig('returns_comparison.png', dpi=300, bbox_inches='tight')\n",
        "    plt.show()\n",
        "    plt.close()\n",
        "\n",
        "\n",
        "def main():\n",
        "    # Load trained BC model\n",
        "    input_dim = 64\n",
        "    output_dim = 50  # Number of unique actions\n",
        "    bc_model = BCModel(input_dim=input_dim, output_dim=output_dim)\n",
        "    bc_model.load_state_dict(torch.load('best_bc_model.pt'))\n",
        "\n",
        "    # Load data\n",
        "    csv_file_path = \"data.csv\"\n",
        "    train_states, val_states, train_actions, val_actions, num_actions = prepare_data_for_bc(csv_file_path)\n",
        "\n",
        "    # Define action mappings\n",
        "    # Original action IDs to model indices (0-49)\n",
        "    action_map = {0: 0, 1: 1, 2: 2, 3: 3, 5: 4, 6: 5, 7: 6, 8: 7, 11: 8, 12: 9,\n",
        "                 13: 10, 16: 11, 17: 12, 18: 13, 20: 14, 21: 15, 22: 16, 23: 17,\n",
        "                 26: 18, 27: 19, 28: 20, 31: 21, 32: 22, 36: 23, 37: 24, 38: 25,\n",
        "                 41: 26, 42: 27, 43: 28, 45: 29, 46: 30, 47: 31, 48: 32, 54: 33,\n",
        "                 55: 34, 56: 35, 57: 36, 58: 37, 59: 38, 60: 39, 65: 40, 66: 41,\n",
        "                 67: 42, 70: 43, 71: 44, 72: 45, 73: 46, 75: 47, 76: 48, 77: 49}\n",
        "\n",
        "    # Define the metadata map\n",
        "    action_meta_map = {\n",
        "        \"Focus\": {\n",
        "            \"Seek Next Step\": {1: 0, 2: 1, 3: 2},\n",
        "            \"Confirm Calculation\": {1: 5, 2: 6, 3: 7, 4: 8},\n",
        "            \"Re-direct to Sub-Problem\": {2: 11, 3: 12, 4: 13},\n",
        "            \"Highlight Missing Info\": {2: 16, 3: 17, 4: 18}\n",
        "        },\n",
        "        \"Probing\": {\n",
        "            \"Ask for Explanation\": {1: 20, 2: 21, 3: 22, 4: 23},\n",
        "            \"Seek Self-Correction\": {2: 26, 3: 27, 4: 28},\n",
        "            \"Hypothetical Variation\": {2: 31, 3: 32},\n",
        "            \"Check Understanding/Concept\": {2: 36, 3: 37, 4: 38},\n",
        "            \"Encourage Comparison\": {2: 41, 3: 42, 4: 43}\n",
        "        },\n",
        "        \"Telling\": {\n",
        "            \"Partial Reveal (Strategy)\": {1: 45, 2: 46, 3: 47, 4: 48},\n",
        "            \"Full Reveal (Answer)\": {1: 54, 2: 55, 3: 56, 4: 57, 5: 58, 6: 59},\n",
        "            \"Corrective Explanation\": {1: 60}\n",
        "        },\n",
        "        \"Generic\": {\n",
        "            \"Acknowledgment/Praise\": {1: 65, 2: 66, 3: 67},\n",
        "            \"Summarize Progress\": {1: 70, 2: 71, 3: 72, 4: 73},\n",
        "            \"General Inquiry/Filler\": {1: 75, 2: 76, 3: 77}\n",
        "        }\n",
        "    }\n",
        "\n",
        "    # Load dataframe for the transition buffer\n",
        "    df = pd.read_csv(csv_file_path)\n",
        "\n",
        "    # Build the transition buffer with enhanced reward function\n",
        "    buffer, returned_action_map = build_transition_buffer(\n",
        "        df=df,\n",
        "        reward_fn=hybrid_reward,\n",
        "        meta_map=action_meta_map,\n",
        "        orig_to_idx=action_map,\n",
        "        episode_column=None\n",
        "    )\n",
        "\n",
        "    # Print buffer statistics\n",
        "    print(f\"\\nTransition Buffer Statistics:\")\n",
        "    print(f\"Total transitions: {len(buffer)}\")\n",
        "    print(f\"State dimension: {buffer.states.shape[1]}\")\n",
        "    print(f\"Number of unique actions: {len(set(buffer.actions))}\")\n",
        "\n",
        "    # Check if models are already trained (if not, train them)\n",
        "    try:\n",
        "        # Try to load the CQL models\n",
        "        cql_agent = CQLAgent(state_dim=buffer.states.shape[1], action_dim=output_dim)\n",
        "        cql_agent.load('best_cql_model.pt')\n",
        "\n",
        "        bc_init_cql_agent = CQLAgent(state_dim=buffer.states.shape[1], action_dim=output_dim)\n",
        "        bc_init_cql_agent.load('best_initialized_cql_model.pt')\n",
        "\n",
        "        print(\"Successfully loaded pre-trained models.\")\n",
        "    except:\n",
        "        print(\"Could not load models. Training from scratch...\")\n",
        "\n",
        "        # Option 1: Train CQL from scratch\n",
        "        print(\"\\nTraining CQL from scratch...\")\n",
        "        cql_agent = train_cql(\n",
        "            buffer=buffer,\n",
        "            state_dim=buffer.states.shape[1],\n",
        "            action_dim=output_dim,\n",
        "            num_epochs=100,\n",
        "            batch_size=256,\n",
        "            hidden_dim=256,\n",
        "            lr=1e-4,\n",
        "            gamma=0.98,\n",
        "            tau=0.005,\n",
        "            cql_alpha=2.0,\n",
        "            model_save_path='best_cql_model.pt',\n",
        "            action_map=action_map,\n",
        "            action_meta_map=action_meta_map\n",
        "        )\n",
        "\n",
        "        # Option 2: Initialize CQL with BC weights\n",
        "        print(\"\\nTraining BC-initialized CQL...\")\n",
        "        bc_initialized_cql = convert_bc_to_cql_model(bc_model, output_dim)\n",
        "        bc_initialized_cql.save('bc_initialized_cql.pt')\n",
        "\n",
        "        bc_init_cql_agent = train_cql(\n",
        "            buffer=buffer,\n",
        "            state_dim=buffer.states.shape[1],\n",
        "            action_dim=output_dim,\n",
        "            num_epochs=30,\n",
        "            batch_size=256,\n",
        "            hidden_dim=256,\n",
        "            lr=3e-5,\n",
        "            gamma=0.98,\n",
        "            tau=0.005,\n",
        "            cql_alpha=0.9,\n",
        "            model_save_path='best_initialized_cql_model.pt',\n",
        "            action_map=action_map,\n",
        "            action_meta_map=action_meta_map\n",
        "        )\n",
        "\n",
        "    # Wrap BC for consistent interface\n",
        "    bc_agent = BCPolicyWrapper(bc_model, action_map, device=cql_agent.device)\n",
        "\n",
        "    # Evaluate all models on the same starting states\n",
        "    print(\"\\nEvaluating models on same starting states...\")\n",
        "    bc_returns, cql_returns, bc_init_returns = evaluate_all_models_on_same_states(\n",
        "        bc_agent=bc_agent,\n",
        "        cql_agent=cql_agent,\n",
        "        bc_init_cql_agent=bc_init_cql_agent,\n",
        "        buffer=buffer,\n",
        "        reward_fn=hybrid_reward,\n",
        "        num_episodes=100,  # Increased for better statistical significance\n",
        "        max_steps=60,\n",
        "        action_meta_map=action_meta_map\n",
        "    )\n",
        "\n",
        "    # Calculate means and standard deviations\n",
        "    bc_mean = np.mean(bc_returns)\n",
        "    cql_mean = np.mean(cql_returns)\n",
        "    bc_init_mean = np.mean(bc_init_returns)\n",
        "\n",
        "    bc_std = np.std(bc_returns)\n",
        "    cql_std = np.std(cql_returns)\n",
        "    bc_init_std = np.std(bc_init_returns)\n",
        "\n",
        "    # Print comparison\n",
        "    print(\"\\nModel Comparison (fair evaluation):\")\n",
        "    print(f\"BC policy return:            {bc_mean:.4f} ± {bc_std:.4f}\")\n",
        "    print(f\"Standard CQL policy return:  {cql_mean:.4f} ± {cql_std:.4f} ({(cql_mean-bc_mean)/abs(bc_mean)*100:.1f}% vs BC)\")\n",
        "    print(f\"BC-init CQL policy return:   {bc_init_mean:.4f} ± {bc_init_std:.4f} ({(bc_init_mean-bc_mean)/abs(bc_mean)*100:.1f}% vs BC)\")\n",
        "\n",
        "    # Perform paired t-tests\n",
        "    test_results = perform_paired_t_test(bc_returns, cql_returns, bc_init_returns)\n",
        "\n",
        "    # Plot return distributions\n",
        "    plot_returns_comparison(bc_returns, cql_returns, bc_init_returns)\n",
        "\n",
        "    # Save returns for future analysis\n",
        "    np.savez('fair_evaluation_returns.npz',\n",
        "             bc_returns=bc_returns,\n",
        "             cql_returns=cql_returns,\n",
        "             bc_init_returns=bc_init_returns)\n",
        "\n",
        "    print(\"Evaluation complete. Results saved to 'fair_evaluation_returns.npz'\")\n",
        "\n",
        "\n",
        "if __name__ == \"__main__\":\n",
        "    main()"
      ],
      "metadata": {
        "colab": {
          "base_uri": "https://localhost:8080/",
          "height": 1000
        },
        "id": "mIOmcd5f6G56",
        "outputId": "7e749ebc-c8db-45b2-a2ee-381ffb472e28"
      },
      "execution_count": null,
      "outputs": [
        {
          "output_type": "stream",
          "name": "stdout",
          "text": [
            "\n",
            "Transition Buffer Statistics:\n",
            "Total transitions: 12017\n",
            "State dimension: 64\n",
            "Number of unique actions: 50\n",
            "Could not load models. Training from scratch...\n",
            "\n",
            "Training CQL from scratch...\n",
            "Training CQL agent with 12017 transitions\n",
            "State dim: 64, Action dim: 50\n",
            "CQL alpha: 2.0, Learning rate: 0.0001\n"
          ]
        },
        {
          "output_type": "stream",
          "name": "stderr",
          "text": [
            "Epoch 1/100: 100%|██████████| 47/47 [00:01<00:00, 28.77it/s, td_loss=5.16, cql_loss=2.67, total_loss=10.5]\n"
          ]
        },
        {
          "output_type": "stream",
          "name": "stdout",
          "text": [
            "\n",
            "Epoch 1/100 - TD Loss: 5.9775, CQL Loss: 2.8905, Total Loss: 11.7584\n"
          ]
        },
        {
          "output_type": "stream",
          "name": "stderr",
          "text": [
            "Epoch 2/100: 100%|██████████| 47/47 [00:01<00:00, 28.82it/s, td_loss=5.12, cql_loss=2.66, total_loss=10.4]\n"
          ]
        },
        {
          "output_type": "stream",
          "name": "stdout",
          "text": [
            "\n",
            "Epoch 2/100 - TD Loss: 5.0922, CQL Loss: 2.5838, Total Loss: 10.2598\n"
          ]
        },
        {
          "output_type": "stream",
          "name": "stderr",
          "text": [
            "Epoch 3/100: 100%|██████████| 47/47 [00:01<00:00, 44.72it/s, td_loss=4.31, cql_loss=2.54, total_loss=9.4]\n"
          ]
        },
        {
          "output_type": "stream",
          "name": "stdout",
          "text": [
            "\n",
            "Epoch 3/100 - TD Loss: 4.9637, CQL Loss: 2.5082, Total Loss: 9.9801\n"
          ]
        },
        {
          "output_type": "stream",
          "name": "stderr",
          "text": [
            "Epoch 4/100: 100%|██████████| 47/47 [00:01<00:00, 46.47it/s, td_loss=4.95, cql_loss=2.27, total_loss=9.49]\n"
          ]
        },
        {
          "output_type": "stream",
          "name": "stdout",
          "text": [
            "\n",
            "Epoch 4/100 - TD Loss: 4.9243, CQL Loss: 2.4361, Total Loss: 9.7966\n"
          ]
        },
        {
          "output_type": "stream",
          "name": "stderr",
          "text": [
            "Epoch 5/100: 100%|██████████| 47/47 [00:01<00:00, 42.28it/s, td_loss=5.31, cql_loss=2.46, total_loss=10.2]\n"
          ]
        },
        {
          "output_type": "stream",
          "name": "stdout",
          "text": [
            "\n",
            "Epoch 5/100 - TD Loss: 4.9060, CQL Loss: 2.3824, Total Loss: 9.6709\n",
            "\n",
            "Evaluation over 20 episodes:\n",
            "  Mean return: 12.8046 ± 20.3723\n",
            "  Mean episode length: 14.50\n",
            "  Termination reasons: {'max_steps': 2, 'done': 18, 'buffer_end': 0}\n",
            "Evaluation - Mean Return: 12.8046\n",
            "New best model saved with return: 12.8046\n"
          ]
        },
        {
          "output_type": "stream",
          "name": "stderr",
          "text": [
            "Epoch 6/100: 100%|██████████| 47/47 [00:01<00:00, 40.08it/s, td_loss=4.68, cql_loss=2.29, total_loss=9.26]\n"
          ]
        },
        {
          "output_type": "stream",
          "name": "stdout",
          "text": [
            "\n",
            "Epoch 6/100 - TD Loss: 4.9049, CQL Loss: 2.3283, Total Loss: 9.5616\n"
          ]
        },
        {
          "output_type": "stream",
          "name": "stderr",
          "text": [
            "Epoch 7/100: 100%|██████████| 47/47 [00:01<00:00, 40.38it/s, td_loss=4.78, cql_loss=2.2, total_loss=9.17]\n"
          ]
        },
        {
          "output_type": "stream",
          "name": "stdout",
          "text": [
            "\n",
            "Epoch 7/100 - TD Loss: 4.9026, CQL Loss: 2.2731, Total Loss: 9.4487\n"
          ]
        },
        {
          "output_type": "stream",
          "name": "stderr",
          "text": [
            "Epoch 8/100: 100%|██████████| 47/47 [00:00<00:00, 56.93it/s, td_loss=5.53, cql_loss=2.23, total_loss=9.99]\n"
          ]
        },
        {
          "output_type": "stream",
          "name": "stdout",
          "text": [
            "\n",
            "Epoch 8/100 - TD Loss: 4.8932, CQL Loss: 2.2324, Total Loss: 9.3581\n"
          ]
        },
        {
          "output_type": "stream",
          "name": "stderr",
          "text": [
            "Epoch 9/100: 100%|██████████| 47/47 [00:00<00:00, 57.49it/s, td_loss=5.08, cql_loss=2.16, total_loss=9.4]\n"
          ]
        },
        {
          "output_type": "stream",
          "name": "stdout",
          "text": [
            "\n",
            "Epoch 9/100 - TD Loss: 4.8629, CQL Loss: 2.1881, Total Loss: 9.2391\n"
          ]
        },
        {
          "output_type": "stream",
          "name": "stderr",
          "text": [
            "Epoch 10/100: 100%|██████████| 47/47 [00:01<00:00, 43.76it/s, td_loss=5.06, cql_loss=2.17, total_loss=9.39]\n"
          ]
        },
        {
          "output_type": "stream",
          "name": "stdout",
          "text": [
            "\n",
            "Epoch 10/100 - TD Loss: 4.8170, CQL Loss: 2.1523, Total Loss: 9.1215\n",
            "\n",
            "Evaluation over 20 episodes:\n",
            "  Mean return: 19.2200 ± 22.2016\n",
            "  Mean episode length: 22.80\n",
            "  Termination reasons: {'max_steps': 3, 'done': 17, 'buffer_end': 0}\n",
            "Evaluation - Mean Return: 19.2200\n",
            "New best model saved with return: 19.2200\n"
          ]
        },
        {
          "output_type": "stream",
          "name": "stderr",
          "text": [
            "Epoch 11/100: 100%|██████████| 47/47 [00:00<00:00, 58.28it/s, td_loss=4.17, cql_loss=2.14, total_loss=8.45]\n"
          ]
        },
        {
          "output_type": "stream",
          "name": "stdout",
          "text": [
            "\n",
            "Epoch 11/100 - TD Loss: 4.7070, CQL Loss: 2.1288, Total Loss: 8.9646\n"
          ]
        },
        {
          "output_type": "stream",
          "name": "stderr",
          "text": [
            "Epoch 12/100: 100%|██████████| 47/47 [00:00<00:00, 54.42it/s, td_loss=5.11, cql_loss=2.04, total_loss=9.19]\n"
          ]
        },
        {
          "output_type": "stream",
          "name": "stdout",
          "text": [
            "\n",
            "Epoch 12/100 - TD Loss: 4.6280, CQL Loss: 2.0999, Total Loss: 8.8277\n"
          ]
        },
        {
          "output_type": "stream",
          "name": "stderr",
          "text": [
            "Epoch 13/100: 100%|██████████| 47/47 [00:01<00:00, 43.06it/s, td_loss=4.08, cql_loss=2.07, total_loss=8.22]\n"
          ]
        },
        {
          "output_type": "stream",
          "name": "stdout",
          "text": [
            "\n",
            "Epoch 13/100 - TD Loss: 4.5013, CQL Loss: 2.0834, Total Loss: 8.6681\n"
          ]
        },
        {
          "output_type": "stream",
          "name": "stderr",
          "text": [
            "Epoch 14/100: 100%|██████████| 47/47 [00:01<00:00, 42.16it/s, td_loss=4.34, cql_loss=2.14, total_loss=8.63]\n"
          ]
        },
        {
          "output_type": "stream",
          "name": "stdout",
          "text": [
            "\n",
            "Epoch 14/100 - TD Loss: 4.4230, CQL Loss: 2.0686, Total Loss: 8.5602\n"
          ]
        },
        {
          "output_type": "stream",
          "name": "stderr",
          "text": [
            "Epoch 15/100: 100%|██████████| 47/47 [00:01<00:00, 39.33it/s, td_loss=4.24, cql_loss=2.19, total_loss=8.62]\n"
          ]
        },
        {
          "output_type": "stream",
          "name": "stdout",
          "text": [
            "\n",
            "Epoch 15/100 - TD Loss: 4.3011, CQL Loss: 2.0483, Total Loss: 8.3977\n",
            "\n",
            "Evaluation over 20 episodes:\n",
            "  Mean return: 14.7819 ± 17.1518\n",
            "  Mean episode length: 19.70\n",
            "  Termination reasons: {'max_steps': 3, 'done': 17, 'buffer_end': 0}\n",
            "Evaluation - Mean Return: 14.7819\n"
          ]
        },
        {
          "output_type": "stream",
          "name": "stderr",
          "text": [
            "Epoch 16/100: 100%|██████████| 47/47 [00:00<00:00, 54.70it/s, td_loss=4.53, cql_loss=2.02, total_loss=8.56]\n"
          ]
        },
        {
          "output_type": "stream",
          "name": "stdout",
          "text": [
            "\n",
            "Epoch 16/100 - TD Loss: 4.1782, CQL Loss: 2.0522, Total Loss: 8.2825\n"
          ]
        },
        {
          "output_type": "stream",
          "name": "stderr",
          "text": [
            "Epoch 17/100: 100%|██████████| 47/47 [00:00<00:00, 54.48it/s, td_loss=4.14, cql_loss=1.93, total_loss=8.01]\n"
          ]
        },
        {
          "output_type": "stream",
          "name": "stdout",
          "text": [
            "\n",
            "Epoch 17/100 - TD Loss: 4.1257, CQL Loss: 2.0300, Total Loss: 8.1858\n"
          ]
        },
        {
          "output_type": "stream",
          "name": "stderr",
          "text": [
            "Epoch 18/100: 100%|██████████| 47/47 [00:00<00:00, 55.22it/s, td_loss=3.16, cql_loss=1.95, total_loss=7.05]\n"
          ]
        },
        {
          "output_type": "stream",
          "name": "stdout",
          "text": [
            "\n",
            "Epoch 18/100 - TD Loss: 4.0797, CQL Loss: 2.0280, Total Loss: 8.1358\n"
          ]
        },
        {
          "output_type": "stream",
          "name": "stderr",
          "text": [
            "Epoch 19/100: 100%|██████████| 47/47 [00:00<00:00, 55.35it/s, td_loss=5.03, cql_loss=2.14, total_loss=9.3]\n"
          ]
        },
        {
          "output_type": "stream",
          "name": "stdout",
          "text": [
            "\n",
            "Epoch 19/100 - TD Loss: 4.0682, CQL Loss: 2.0174, Total Loss: 8.1030\n"
          ]
        },
        {
          "output_type": "stream",
          "name": "stderr",
          "text": [
            "Epoch 20/100: 100%|██████████| 47/47 [00:00<00:00, 55.85it/s, td_loss=5.03, cql_loss=2.12, total_loss=9.27]\n"
          ]
        },
        {
          "output_type": "stream",
          "name": "stdout",
          "text": [
            "\n",
            "Epoch 20/100 - TD Loss: 4.1137, CQL Loss: 2.0114, Total Loss: 8.1366\n",
            "\n",
            "Evaluation over 20 episodes:\n",
            "  Mean return: 16.4163 ± 20.5072\n",
            "  Mean episode length: 21.25\n",
            "  Termination reasons: {'max_steps': 3, 'done': 17, 'buffer_end': 0}\n",
            "Evaluation - Mean Return: 16.4163\n"
          ]
        },
        {
          "output_type": "stream",
          "name": "stderr",
          "text": [
            "Epoch 21/100: 100%|██████████| 47/47 [00:00<00:00, 56.46it/s, td_loss=3.57, cql_loss=2.04, total_loss=7.64]\n"
          ]
        },
        {
          "output_type": "stream",
          "name": "stdout",
          "text": [
            "\n",
            "Epoch 21/100 - TD Loss: 4.1880, CQL Loss: 2.0007, Total Loss: 8.1894\n"
          ]
        },
        {
          "output_type": "stream",
          "name": "stderr",
          "text": [
            "Epoch 22/100: 100%|██████████| 47/47 [00:00<00:00, 55.02it/s, td_loss=5.12, cql_loss=2.09, total_loss=9.3]\n"
          ]
        },
        {
          "output_type": "stream",
          "name": "stdout",
          "text": [
            "\n",
            "Epoch 22/100 - TD Loss: 4.3009, CQL Loss: 1.9949, Total Loss: 8.2907\n"
          ]
        },
        {
          "output_type": "stream",
          "name": "stderr",
          "text": [
            "Epoch 23/100: 100%|██████████| 47/47 [00:00<00:00, 53.62it/s, td_loss=3.82, cql_loss=1.9, total_loss=7.61]\n"
          ]
        },
        {
          "output_type": "stream",
          "name": "stdout",
          "text": [
            "\n",
            "Epoch 23/100 - TD Loss: 4.4302, CQL Loss: 1.9881, Total Loss: 8.4064\n"
          ]
        },
        {
          "output_type": "stream",
          "name": "stderr",
          "text": [
            "Epoch 24/100: 100%|██████████| 47/47 [00:00<00:00, 52.56it/s, td_loss=4.83, cql_loss=2.15, total_loss=9.12]\n"
          ]
        },
        {
          "output_type": "stream",
          "name": "stdout",
          "text": [
            "\n",
            "Epoch 24/100 - TD Loss: 4.6019, CQL Loss: 1.9798, Total Loss: 8.5615\n"
          ]
        },
        {
          "output_type": "stream",
          "name": "stderr",
          "text": [
            "Epoch 25/100: 100%|██████████| 47/47 [00:00<00:00, 52.86it/s, td_loss=5.43, cql_loss=2.02, total_loss=9.47]\n"
          ]
        },
        {
          "output_type": "stream",
          "name": "stdout",
          "text": [
            "\n",
            "Epoch 25/100 - TD Loss: 4.8018, CQL Loss: 1.9721, Total Loss: 8.7460\n",
            "\n",
            "Evaluation over 20 episodes:\n",
            "  Mean return: 20.2854 ± 21.9320\n",
            "  Mean episode length: 24.75\n",
            "  Termination reasons: {'max_steps': 4, 'done': 16, 'buffer_end': 0}\n",
            "Evaluation - Mean Return: 20.2854\n",
            "New best model saved with return: 20.2854\n"
          ]
        },
        {
          "output_type": "stream",
          "name": "stderr",
          "text": [
            "Epoch 26/100: 100%|██████████| 47/47 [00:00<00:00, 54.01it/s, td_loss=4.66, cql_loss=1.97, total_loss=8.59]\n"
          ]
        },
        {
          "output_type": "stream",
          "name": "stdout",
          "text": [
            "\n",
            "Epoch 26/100 - TD Loss: 4.9824, CQL Loss: 1.9654, Total Loss: 8.9131\n"
          ]
        },
        {
          "output_type": "stream",
          "name": "stderr",
          "text": [
            "Epoch 27/100: 100%|██████████| 47/47 [00:01<00:00, 33.18it/s, td_loss=5.21, cql_loss=1.93, total_loss=9.07]\n"
          ]
        },
        {
          "output_type": "stream",
          "name": "stdout",
          "text": [
            "\n",
            "Epoch 27/100 - TD Loss: 5.1939, CQL Loss: 1.9591, Total Loss: 9.1122\n"
          ]
        },
        {
          "output_type": "stream",
          "name": "stderr",
          "text": [
            "Epoch 28/100: 100%|██████████| 47/47 [00:01<00:00, 40.65it/s, td_loss=5.86, cql_loss=1.97, total_loss=9.79]\n"
          ]
        },
        {
          "output_type": "stream",
          "name": "stdout",
          "text": [
            "\n",
            "Epoch 28/100 - TD Loss: 5.4473, CQL Loss: 1.9593, Total Loss: 9.3659\n"
          ]
        },
        {
          "output_type": "stream",
          "name": "stderr",
          "text": [
            "Epoch 29/100: 100%|██████████| 47/47 [00:01<00:00, 42.56it/s, td_loss=5.35, cql_loss=2, total_loss=9.34]\n"
          ]
        },
        {
          "output_type": "stream",
          "name": "stdout",
          "text": [
            "\n",
            "Epoch 29/100 - TD Loss: 5.6338, CQL Loss: 1.9438, Total Loss: 9.5215\n"
          ]
        },
        {
          "output_type": "stream",
          "name": "stderr",
          "text": [
            "Epoch 30/100: 100%|██████████| 47/47 [00:00<00:00, 52.86it/s, td_loss=6, cql_loss=1.97, total_loss=9.93]\n"
          ]
        },
        {
          "output_type": "stream",
          "name": "stdout",
          "text": [
            "\n",
            "Epoch 30/100 - TD Loss: 5.8275, CQL Loss: 1.9409, Total Loss: 9.7093\n",
            "\n",
            "Evaluation over 20 episodes:\n",
            "  Mean return: 11.3437 ± 17.0109\n",
            "  Mean episode length: 15.15\n",
            "  Termination reasons: {'max_steps': 2, 'done': 18, 'buffer_end': 0}\n",
            "Evaluation - Mean Return: 11.3437\n"
          ]
        },
        {
          "output_type": "stream",
          "name": "stderr",
          "text": [
            "Epoch 31/100: 100%|██████████| 47/47 [00:00<00:00, 54.70it/s, td_loss=6.79, cql_loss=1.94, total_loss=10.7]\n"
          ]
        },
        {
          "output_type": "stream",
          "name": "stdout",
          "text": [
            "\n",
            "Epoch 31/100 - TD Loss: 6.0696, CQL Loss: 1.9342, Total Loss: 9.9380\n"
          ]
        },
        {
          "output_type": "stream",
          "name": "stderr",
          "text": [
            "Epoch 32/100: 100%|██████████| 47/47 [00:00<00:00, 54.07it/s, td_loss=5.2, cql_loss=1.96, total_loss=9.13]\n"
          ]
        },
        {
          "output_type": "stream",
          "name": "stdout",
          "text": [
            "\n",
            "Epoch 32/100 - TD Loss: 6.2476, CQL Loss: 1.9392, Total Loss: 10.1260\n"
          ]
        },
        {
          "output_type": "stream",
          "name": "stderr",
          "text": [
            "Epoch 33/100: 100%|██████████| 47/47 [00:00<00:00, 54.35it/s, td_loss=7.79, cql_loss=2.03, total_loss=11.8]\n"
          ]
        },
        {
          "output_type": "stream",
          "name": "stdout",
          "text": [
            "\n",
            "Epoch 33/100 - TD Loss: 6.4750, CQL Loss: 1.9163, Total Loss: 10.3075\n"
          ]
        },
        {
          "output_type": "stream",
          "name": "stderr",
          "text": [
            "Epoch 34/100: 100%|██████████| 47/47 [00:00<00:00, 55.42it/s, td_loss=6.78, cql_loss=2.07, total_loss=10.9]\n"
          ]
        },
        {
          "output_type": "stream",
          "name": "stdout",
          "text": [
            "\n",
            "Epoch 34/100 - TD Loss: 6.6421, CQL Loss: 1.9190, Total Loss: 10.4801\n"
          ]
        },
        {
          "output_type": "stream",
          "name": "stderr",
          "text": [
            "Epoch 35/100: 100%|██████████| 47/47 [00:00<00:00, 53.27it/s, td_loss=5.57, cql_loss=1.77, total_loss=9.11]\n"
          ]
        },
        {
          "output_type": "stream",
          "name": "stdout",
          "text": [
            "\n",
            "Epoch 35/100 - TD Loss: 6.8390, CQL Loss: 1.9074, Total Loss: 10.6538\n",
            "\n",
            "Evaluation over 20 episodes:\n",
            "  Mean return: 12.0847 ± 12.9896\n",
            "  Mean episode length: 16.10\n",
            "  Termination reasons: {'max_steps': 2, 'done': 18, 'buffer_end': 0}\n",
            "Evaluation - Mean Return: 12.0847\n"
          ]
        },
        {
          "output_type": "stream",
          "name": "stderr",
          "text": [
            "Epoch 36/100: 100%|██████████| 47/47 [00:01<00:00, 43.35it/s, td_loss=7.52, cql_loss=1.88, total_loss=11.3]\n"
          ]
        },
        {
          "output_type": "stream",
          "name": "stdout",
          "text": [
            "\n",
            "Epoch 36/100 - TD Loss: 7.0389, CQL Loss: 1.9170, Total Loss: 10.8728\n"
          ]
        },
        {
          "output_type": "stream",
          "name": "stderr",
          "text": [
            "Epoch 37/100: 100%|██████████| 47/47 [00:00<00:00, 47.70it/s, td_loss=6.69, cql_loss=1.82, total_loss=10.3]\n"
          ]
        },
        {
          "output_type": "stream",
          "name": "stdout",
          "text": [
            "\n",
            "Epoch 37/100 - TD Loss: 7.1624, CQL Loss: 1.9061, Total Loss: 10.9745\n"
          ]
        },
        {
          "output_type": "stream",
          "name": "stderr",
          "text": [
            "Epoch 38/100: 100%|██████████| 47/47 [00:00<00:00, 47.14it/s, td_loss=7.31, cql_loss=1.89, total_loss=11.1]\n"
          ]
        },
        {
          "output_type": "stream",
          "name": "stdout",
          "text": [
            "\n",
            "Epoch 38/100 - TD Loss: 7.3624, CQL Loss: 1.9040, Total Loss: 11.1703\n"
          ]
        },
        {
          "output_type": "stream",
          "name": "stderr",
          "text": [
            "Epoch 39/100: 100%|██████████| 47/47 [00:00<00:00, 55.48it/s, td_loss=7.71, cql_loss=1.85, total_loss=11.4]\n"
          ]
        },
        {
          "output_type": "stream",
          "name": "stdout",
          "text": [
            "\n",
            "Epoch 39/100 - TD Loss: 7.5456, CQL Loss: 1.8932, Total Loss: 11.3320\n"
          ]
        },
        {
          "output_type": "stream",
          "name": "stderr",
          "text": [
            "Epoch 40/100: 100%|██████████| 47/47 [00:01<00:00, 45.20it/s, td_loss=7.26, cql_loss=1.9, total_loss=11.1]\n"
          ]
        },
        {
          "output_type": "stream",
          "name": "stdout",
          "text": [
            "\n",
            "Epoch 40/100 - TD Loss: 7.6417, CQL Loss: 1.8907, Total Loss: 11.4232\n",
            "\n",
            "Evaluation over 20 episodes:\n",
            "  Mean return: 16.8560 ± 20.0034\n",
            "  Mean episode length: 22.20\n",
            "  Termination reasons: {'max_steps': 3, 'done': 17, 'buffer_end': 0}\n",
            "Evaluation - Mean Return: 16.8560\n"
          ]
        },
        {
          "output_type": "stream",
          "name": "stderr",
          "text": [
            "Epoch 41/100: 100%|██████████| 47/47 [00:01<00:00, 42.90it/s, td_loss=7.7, cql_loss=1.95, total_loss=11.6]\n"
          ]
        },
        {
          "output_type": "stream",
          "name": "stdout",
          "text": [
            "\n",
            "Epoch 41/100 - TD Loss: 7.7893, CQL Loss: 1.8918, Total Loss: 11.5730\n"
          ]
        },
        {
          "output_type": "stream",
          "name": "stderr",
          "text": [
            "Epoch 42/100: 100%|██████████| 47/47 [00:01<00:00, 38.34it/s, td_loss=8.59, cql_loss=1.91, total_loss=12.4]\n"
          ]
        },
        {
          "output_type": "stream",
          "name": "stdout",
          "text": [
            "\n",
            "Epoch 42/100 - TD Loss: 7.9340, CQL Loss: 1.8818, Total Loss: 11.6976\n"
          ]
        },
        {
          "output_type": "stream",
          "name": "stderr",
          "text": [
            "Epoch 43/100: 100%|██████████| 47/47 [00:00<00:00, 53.85it/s, td_loss=6.54, cql_loss=1.89, total_loss=10.3]\n"
          ]
        },
        {
          "output_type": "stream",
          "name": "stdout",
          "text": [
            "\n",
            "Epoch 43/100 - TD Loss: 8.0299, CQL Loss: 1.8869, Total Loss: 11.8036\n"
          ]
        },
        {
          "output_type": "stream",
          "name": "stderr",
          "text": [
            "Epoch 44/100: 100%|██████████| 47/47 [00:00<00:00, 54.46it/s, td_loss=7.61, cql_loss=1.91, total_loss=11.4]\n"
          ]
        },
        {
          "output_type": "stream",
          "name": "stdout",
          "text": [
            "\n",
            "Epoch 44/100 - TD Loss: 8.1197, CQL Loss: 1.8790, Total Loss: 11.8778\n"
          ]
        },
        {
          "output_type": "stream",
          "name": "stderr",
          "text": [
            "Epoch 45/100: 100%|██████████| 47/47 [00:00<00:00, 55.06it/s, td_loss=9.11, cql_loss=1.94, total_loss=13]\n"
          ]
        },
        {
          "output_type": "stream",
          "name": "stdout",
          "text": [
            "\n",
            "Epoch 45/100 - TD Loss: 8.1912, CQL Loss: 1.8746, Total Loss: 11.9404\n",
            "\n",
            "Evaluation over 20 episodes:\n",
            "  Mean return: 16.7628 ± 17.7668\n",
            "  Mean episode length: 26.90\n",
            "  Termination reasons: {'max_steps': 4, 'done': 16, 'buffer_end': 0}\n",
            "Evaluation - Mean Return: 16.7628\n"
          ]
        },
        {
          "output_type": "stream",
          "name": "stderr",
          "text": [
            "Epoch 46/100: 100%|██████████| 47/47 [00:00<00:00, 55.67it/s, td_loss=9.26, cql_loss=1.83, total_loss=12.9]\n"
          ]
        },
        {
          "output_type": "stream",
          "name": "stdout",
          "text": [
            "\n",
            "Epoch 46/100 - TD Loss: 8.2656, CQL Loss: 1.8817, Total Loss: 12.0290\n"
          ]
        },
        {
          "output_type": "stream",
          "name": "stderr",
          "text": [
            "Epoch 47/100: 100%|██████████| 47/47 [00:00<00:00, 56.22it/s, td_loss=8.28, cql_loss=1.93, total_loss=12.1]\n"
          ]
        },
        {
          "output_type": "stream",
          "name": "stdout",
          "text": [
            "\n",
            "Epoch 47/100 - TD Loss: 8.4076, CQL Loss: 1.8646, Total Loss: 12.1367\n"
          ]
        },
        {
          "output_type": "stream",
          "name": "stderr",
          "text": [
            "Epoch 48/100: 100%|██████████| 47/47 [00:00<00:00, 54.33it/s, td_loss=7.67, cql_loss=1.95, total_loss=11.6]\n"
          ]
        },
        {
          "output_type": "stream",
          "name": "stdout",
          "text": [
            "\n",
            "Epoch 48/100 - TD Loss: 8.4863, CQL Loss: 1.8597, Total Loss: 12.2057\n"
          ]
        },
        {
          "output_type": "stream",
          "name": "stderr",
          "text": [
            "Epoch 49/100: 100%|██████████| 47/47 [00:00<00:00, 54.46it/s, td_loss=7.1, cql_loss=1.81, total_loss=10.7]\n"
          ]
        },
        {
          "output_type": "stream",
          "name": "stdout",
          "text": [
            "\n",
            "Epoch 49/100 - TD Loss: 8.5855, CQL Loss: 1.8812, Total Loss: 12.3480\n"
          ]
        },
        {
          "output_type": "stream",
          "name": "stderr",
          "text": [
            "Epoch 50/100: 100%|██████████| 47/47 [00:00<00:00, 54.30it/s, td_loss=8.89, cql_loss=1.83, total_loss=12.5]\n"
          ]
        },
        {
          "output_type": "stream",
          "name": "stdout",
          "text": [
            "\n",
            "Epoch 50/100 - TD Loss: 8.7832, CQL Loss: 1.8627, Total Loss: 12.5087\n",
            "\n",
            "Evaluation over 20 episodes:\n",
            "  Mean return: 17.9216 ± 21.3662\n",
            "  Mean episode length: 27.60\n",
            "  Termination reasons: {'max_steps': 5, 'done': 15, 'buffer_end': 0}\n",
            "Evaluation - Mean Return: 17.9216\n"
          ]
        },
        {
          "output_type": "stream",
          "name": "stderr",
          "text": [
            "Epoch 51/100: 100%|██████████| 47/47 [00:00<00:00, 54.46it/s, td_loss=8.44, cql_loss=1.95, total_loss=12.3]\n"
          ]
        },
        {
          "output_type": "stream",
          "name": "stdout",
          "text": [
            "\n",
            "Epoch 51/100 - TD Loss: 8.8453, CQL Loss: 1.8523, Total Loss: 12.5499\n"
          ]
        },
        {
          "output_type": "stream",
          "name": "stderr",
          "text": [
            "Epoch 52/100: 100%|██████████| 47/47 [00:00<00:00, 54.94it/s, td_loss=9.82, cql_loss=1.89, total_loss=13.6]\n"
          ]
        },
        {
          "output_type": "stream",
          "name": "stdout",
          "text": [
            "\n",
            "Epoch 52/100 - TD Loss: 8.9742, CQL Loss: 1.8545, Total Loss: 12.6832\n"
          ]
        },
        {
          "output_type": "stream",
          "name": "stderr",
          "text": [
            "Epoch 53/100: 100%|██████████| 47/47 [00:01<00:00, 44.79it/s, td_loss=9.21, cql_loss=1.84, total_loss=12.9]\n"
          ]
        },
        {
          "output_type": "stream",
          "name": "stdout",
          "text": [
            "\n",
            "Epoch 53/100 - TD Loss: 9.0781, CQL Loss: 1.8535, Total Loss: 12.7850\n"
          ]
        },
        {
          "output_type": "stream",
          "name": "stderr",
          "text": [
            "Epoch 54/100: 100%|██████████| 47/47 [00:01<00:00, 42.97it/s, td_loss=8.86, cql_loss=1.82, total_loss=12.5]\n"
          ]
        },
        {
          "output_type": "stream",
          "name": "stdout",
          "text": [
            "\n",
            "Epoch 54/100 - TD Loss: 9.1915, CQL Loss: 1.8549, Total Loss: 12.9013\n"
          ]
        },
        {
          "output_type": "stream",
          "name": "stderr",
          "text": [
            "Epoch 55/100: 100%|██████████| 47/47 [00:01<00:00, 40.77it/s, td_loss=10.5, cql_loss=1.86, total_loss=14.2]\n"
          ]
        },
        {
          "output_type": "stream",
          "name": "stdout",
          "text": [
            "\n",
            "Epoch 55/100 - TD Loss: 9.3260, CQL Loss: 1.8541, Total Loss: 13.0342\n",
            "\n",
            "Evaluation over 20 episodes:\n",
            "  Mean return: 13.0011 ± 17.9648\n",
            "  Mean episode length: 17.30\n",
            "  Termination reasons: {'max_steps': 3, 'done': 17, 'buffer_end': 0}\n",
            "Evaluation - Mean Return: 13.0011\n"
          ]
        },
        {
          "output_type": "stream",
          "name": "stderr",
          "text": [
            "Epoch 56/100: 100%|██████████| 47/47 [00:01<00:00, 39.41it/s, td_loss=10.8, cql_loss=1.78, total_loss=14.4]\n"
          ]
        },
        {
          "output_type": "stream",
          "name": "stdout",
          "text": [
            "\n",
            "Epoch 56/100 - TD Loss: 9.4850, CQL Loss: 1.8470, Total Loss: 13.1791\n"
          ]
        },
        {
          "output_type": "stream",
          "name": "stderr",
          "text": [
            "Epoch 57/100: 100%|██████████| 47/47 [00:00<00:00, 54.02it/s, td_loss=8.64, cql_loss=1.98, total_loss=12.6]\n"
          ]
        },
        {
          "output_type": "stream",
          "name": "stdout",
          "text": [
            "\n",
            "Epoch 57/100 - TD Loss: 9.5042, CQL Loss: 1.8542, Total Loss: 13.2125\n"
          ]
        },
        {
          "output_type": "stream",
          "name": "stderr",
          "text": [
            "Epoch 58/100: 100%|██████████| 47/47 [00:00<00:00, 52.93it/s, td_loss=9.3, cql_loss=1.77, total_loss=12.8]\n"
          ]
        },
        {
          "output_type": "stream",
          "name": "stdout",
          "text": [
            "\n",
            "Epoch 58/100 - TD Loss: 9.5982, CQL Loss: 1.8364, Total Loss: 13.2711\n"
          ]
        },
        {
          "output_type": "stream",
          "name": "stderr",
          "text": [
            "Epoch 59/100: 100%|██████████| 47/47 [00:00<00:00, 54.11it/s, td_loss=10.8, cql_loss=1.8, total_loss=14.4]\n"
          ]
        },
        {
          "output_type": "stream",
          "name": "stdout",
          "text": [
            "\n",
            "Epoch 59/100 - TD Loss: 9.6818, CQL Loss: 1.8455, Total Loss: 13.3729\n"
          ]
        },
        {
          "output_type": "stream",
          "name": "stderr",
          "text": [
            "Epoch 60/100: 100%|██████████| 47/47 [00:00<00:00, 55.52it/s, td_loss=9.05, cql_loss=1.86, total_loss=12.8]\n"
          ]
        },
        {
          "output_type": "stream",
          "name": "stdout",
          "text": [
            "\n",
            "Epoch 60/100 - TD Loss: 9.8072, CQL Loss: 1.8406, Total Loss: 13.4885\n",
            "\n",
            "Evaluation over 20 episodes:\n",
            "  Mean return: 16.3719 ± 19.3236\n",
            "  Mean episode length: 22.95\n",
            "  Termination reasons: {'max_steps': 4, 'done': 16, 'buffer_end': 0}\n",
            "Evaluation - Mean Return: 16.3719\n"
          ]
        },
        {
          "output_type": "stream",
          "name": "stderr",
          "text": [
            "Epoch 61/100: 100%|██████████| 47/47 [00:00<00:00, 53.35it/s, td_loss=11.4, cql_loss=1.76, total_loss=14.9]\n"
          ]
        },
        {
          "output_type": "stream",
          "name": "stdout",
          "text": [
            "\n",
            "Epoch 61/100 - TD Loss: 9.9051, CQL Loss: 1.8376, Total Loss: 13.5804\n"
          ]
        },
        {
          "output_type": "stream",
          "name": "stderr",
          "text": [
            "Epoch 62/100: 100%|██████████| 47/47 [00:01<00:00, 44.58it/s, td_loss=8.2, cql_loss=1.91, total_loss=12]\n"
          ]
        },
        {
          "output_type": "stream",
          "name": "stdout",
          "text": [
            "\n",
            "Epoch 62/100 - TD Loss: 9.9638, CQL Loss: 1.8409, Total Loss: 13.6457\n"
          ]
        },
        {
          "output_type": "stream",
          "name": "stderr",
          "text": [
            "Epoch 63/100: 100%|██████████| 47/47 [00:00<00:00, 54.41it/s, td_loss=9.05, cql_loss=1.89, total_loss=12.8]\n"
          ]
        },
        {
          "output_type": "stream",
          "name": "stdout",
          "text": [
            "\n",
            "Epoch 63/100 - TD Loss: 10.0570, CQL Loss: 1.8339, Total Loss: 13.7248\n"
          ]
        },
        {
          "output_type": "stream",
          "name": "stderr",
          "text": [
            "Epoch 64/100: 100%|██████████| 47/47 [00:00<00:00, 54.80it/s, td_loss=9.51, cql_loss=1.7, total_loss=12.9]\n"
          ]
        },
        {
          "output_type": "stream",
          "name": "stdout",
          "text": [
            "\n",
            "Epoch 64/100 - TD Loss: 10.1487, CQL Loss: 1.8300, Total Loss: 13.8088\n"
          ]
        },
        {
          "output_type": "stream",
          "name": "stderr",
          "text": [
            "Epoch 65/100: 100%|██████████| 47/47 [00:00<00:00, 54.07it/s, td_loss=9.12, cql_loss=1.96, total_loss=13]\n"
          ]
        },
        {
          "output_type": "stream",
          "name": "stdout",
          "text": [
            "\n",
            "Epoch 65/100 - TD Loss: 10.2062, CQL Loss: 1.8300, Total Loss: 13.8663\n",
            "\n",
            "Evaluation over 20 episodes:\n",
            "  Mean return: 15.5331 ± 19.0994\n",
            "  Mean episode length: 23.10\n",
            "  Termination reasons: {'max_steps': 3, 'done': 17, 'buffer_end': 0}\n",
            "Evaluation - Mean Return: 15.5331\n"
          ]
        },
        {
          "output_type": "stream",
          "name": "stderr",
          "text": [
            "Epoch 66/100: 100%|██████████| 47/47 [00:00<00:00, 53.92it/s, td_loss=8.74, cql_loss=1.77, total_loss=12.3]\n"
          ]
        },
        {
          "output_type": "stream",
          "name": "stdout",
          "text": [
            "\n",
            "Epoch 66/100 - TD Loss: 10.3080, CQL Loss: 1.8230, Total Loss: 13.9540\n"
          ]
        },
        {
          "output_type": "stream",
          "name": "stderr",
          "text": [
            "Epoch 67/100: 100%|██████████| 47/47 [00:00<00:00, 50.51it/s, td_loss=13.7, cql_loss=1.9, total_loss=17.5]\n"
          ]
        },
        {
          "output_type": "stream",
          "name": "stdout",
          "text": [
            "\n",
            "Epoch 67/100 - TD Loss: 10.4351, CQL Loss: 1.8299, Total Loss: 14.0949\n"
          ]
        },
        {
          "output_type": "stream",
          "name": "stderr",
          "text": [
            "Epoch 68/100: 100%|██████████| 47/47 [00:01<00:00, 38.22it/s, td_loss=11.5, cql_loss=1.76, total_loss=15]\n"
          ]
        },
        {
          "output_type": "stream",
          "name": "stdout",
          "text": [
            "\n",
            "Epoch 68/100 - TD Loss: 10.4645, CQL Loss: 1.8256, Total Loss: 14.1157\n"
          ]
        },
        {
          "output_type": "stream",
          "name": "stderr",
          "text": [
            "Epoch 69/100: 100%|██████████| 47/47 [00:01<00:00, 37.47it/s, td_loss=12.4, cql_loss=1.87, total_loss=16.2]\n"
          ]
        },
        {
          "output_type": "stream",
          "name": "stdout",
          "text": [
            "\n",
            "Epoch 69/100 - TD Loss: 10.5462, CQL Loss: 1.8200, Total Loss: 14.1862\n"
          ]
        },
        {
          "output_type": "stream",
          "name": "stderr",
          "text": [
            "Epoch 70/100: 100%|██████████| 47/47 [00:01<00:00, 45.29it/s, td_loss=8.3, cql_loss=1.85, total_loss=12]\n"
          ]
        },
        {
          "output_type": "stream",
          "name": "stdout",
          "text": [
            "\n",
            "Epoch 70/100 - TD Loss: 10.6692, CQL Loss: 1.8176, Total Loss: 14.3044\n",
            "\n",
            "Evaluation over 20 episodes:\n",
            "  Mean return: 11.0670 ± 10.6503\n",
            "  Mean episode length: 15.70\n",
            "  Termination reasons: {'max_steps': 1, 'done': 19, 'buffer_end': 0}\n",
            "Evaluation - Mean Return: 11.0670\n"
          ]
        },
        {
          "output_type": "stream",
          "name": "stderr",
          "text": [
            "Epoch 71/100: 100%|██████████| 47/47 [00:00<00:00, 55.04it/s, td_loss=11, cql_loss=1.76, total_loss=14.5]\n"
          ]
        },
        {
          "output_type": "stream",
          "name": "stdout",
          "text": [
            "\n",
            "Epoch 71/100 - TD Loss: 10.6587, CQL Loss: 1.8262, Total Loss: 14.3111\n"
          ]
        },
        {
          "output_type": "stream",
          "name": "stderr",
          "text": [
            "Epoch 72/100: 100%|██████████| 47/47 [00:00<00:00, 55.08it/s, td_loss=13.1, cql_loss=1.82, total_loss=16.7]\n"
          ]
        },
        {
          "output_type": "stream",
          "name": "stdout",
          "text": [
            "\n",
            "Epoch 72/100 - TD Loss: 10.7772, CQL Loss: 1.8092, Total Loss: 14.3956\n"
          ]
        },
        {
          "output_type": "stream",
          "name": "stderr",
          "text": [
            "Epoch 73/100: 100%|██████████| 47/47 [00:00<00:00, 55.40it/s, td_loss=12.6, cql_loss=1.9, total_loss=16.4]\n"
          ]
        },
        {
          "output_type": "stream",
          "name": "stdout",
          "text": [
            "\n",
            "Epoch 73/100 - TD Loss: 10.8486, CQL Loss: 1.8210, Total Loss: 14.4906\n"
          ]
        },
        {
          "output_type": "stream",
          "name": "stderr",
          "text": [
            "Epoch 74/100: 100%|██████████| 47/47 [00:00<00:00, 53.51it/s, td_loss=10.2, cql_loss=1.71, total_loss=13.7]\n"
          ]
        },
        {
          "output_type": "stream",
          "name": "stdout",
          "text": [
            "\n",
            "Epoch 74/100 - TD Loss: 10.8938, CQL Loss: 1.8096, Total Loss: 14.5131\n"
          ]
        },
        {
          "output_type": "stream",
          "name": "stderr",
          "text": [
            "Epoch 75/100: 100%|██████████| 47/47 [00:00<00:00, 54.22it/s, td_loss=10.5, cql_loss=1.66, total_loss=13.8]\n"
          ]
        },
        {
          "output_type": "stream",
          "name": "stdout",
          "text": [
            "\n",
            "Epoch 75/100 - TD Loss: 10.9753, CQL Loss: 1.8158, Total Loss: 14.6068\n",
            "\n",
            "Evaluation over 20 episodes:\n",
            "  Mean return: 16.2690 ± 18.9052\n",
            "  Mean episode length: 24.70\n",
            "  Termination reasons: {'max_steps': 4, 'done': 16, 'buffer_end': 0}\n",
            "Evaluation - Mean Return: 16.2690\n"
          ]
        },
        {
          "output_type": "stream",
          "name": "stderr",
          "text": [
            "Epoch 76/100: 100%|██████████| 47/47 [00:00<00:00, 53.90it/s, td_loss=9.7, cql_loss=1.79, total_loss=13.3]\n"
          ]
        },
        {
          "output_type": "stream",
          "name": "stdout",
          "text": [
            "\n",
            "Epoch 76/100 - TD Loss: 11.0423, CQL Loss: 1.8091, Total Loss: 14.6606\n"
          ]
        },
        {
          "output_type": "stream",
          "name": "stderr",
          "text": [
            "Epoch 77/100: 100%|██████████| 47/47 [00:00<00:00, 54.69it/s, td_loss=9.71, cql_loss=1.82, total_loss=13.4]\n"
          ]
        },
        {
          "output_type": "stream",
          "name": "stdout",
          "text": [
            "\n",
            "Epoch 77/100 - TD Loss: 11.1225, CQL Loss: 1.8076, Total Loss: 14.7376\n"
          ]
        },
        {
          "output_type": "stream",
          "name": "stderr",
          "text": [
            "Epoch 78/100: 100%|██████████| 47/47 [00:00<00:00, 52.99it/s, td_loss=10.9, cql_loss=1.9, total_loss=14.7]\n"
          ]
        },
        {
          "output_type": "stream",
          "name": "stdout",
          "text": [
            "\n",
            "Epoch 78/100 - TD Loss: 11.1494, CQL Loss: 1.8106, Total Loss: 14.7707\n"
          ]
        },
        {
          "output_type": "stream",
          "name": "stderr",
          "text": [
            "Epoch 79/100: 100%|██████████| 47/47 [00:01<00:00, 42.99it/s, td_loss=12.8, cql_loss=1.76, total_loss=16.3]\n"
          ]
        },
        {
          "output_type": "stream",
          "name": "stdout",
          "text": [
            "\n",
            "Epoch 79/100 - TD Loss: 11.2357, CQL Loss: 1.8086, Total Loss: 14.8528\n"
          ]
        },
        {
          "output_type": "stream",
          "name": "stderr",
          "text": [
            "Epoch 80/100: 100%|██████████| 47/47 [00:00<00:00, 54.64it/s, td_loss=8.9, cql_loss=1.8, total_loss=12.5]\n"
          ]
        },
        {
          "output_type": "stream",
          "name": "stdout",
          "text": [
            "\n",
            "Epoch 80/100 - TD Loss: 11.3162, CQL Loss: 1.8054, Total Loss: 14.9270\n",
            "\n",
            "Evaluation over 20 episodes:\n",
            "  Mean return: 20.2863 ± 25.8903\n",
            "  Mean episode length: 25.10\n",
            "  Termination reasons: {'max_steps': 5, 'done': 15, 'buffer_end': 0}\n",
            "Evaluation - Mean Return: 20.2863\n",
            "New best model saved with return: 20.2863\n"
          ]
        },
        {
          "output_type": "stream",
          "name": "stderr",
          "text": [
            "Epoch 81/100: 100%|██████████| 47/47 [00:01<00:00, 42.25it/s, td_loss=14.1, cql_loss=1.88, total_loss=17.8]\n"
          ]
        },
        {
          "output_type": "stream",
          "name": "stdout",
          "text": [
            "\n",
            "Epoch 81/100 - TD Loss: 11.3599, CQL Loss: 1.7930, Total Loss: 14.9458\n"
          ]
        },
        {
          "output_type": "stream",
          "name": "stderr",
          "text": [
            "Epoch 82/100: 100%|██████████| 47/47 [00:01<00:00, 40.16it/s, td_loss=14, cql_loss=1.78, total_loss=17.6]\n"
          ]
        },
        {
          "output_type": "stream",
          "name": "stdout",
          "text": [
            "\n",
            "Epoch 82/100 - TD Loss: 11.3961, CQL Loss: 1.8062, Total Loss: 15.0084\n"
          ]
        },
        {
          "output_type": "stream",
          "name": "stderr",
          "text": [
            "Epoch 83/100: 100%|██████████| 47/47 [00:01<00:00, 37.93it/s, td_loss=9.63, cql_loss=1.88, total_loss=13.4]\n"
          ]
        },
        {
          "output_type": "stream",
          "name": "stdout",
          "text": [
            "\n",
            "Epoch 83/100 - TD Loss: 11.5022, CQL Loss: 1.7911, Total Loss: 15.0844\n"
          ]
        },
        {
          "output_type": "stream",
          "name": "stderr",
          "text": [
            "Epoch 84/100: 100%|██████████| 47/47 [00:00<00:00, 52.09it/s, td_loss=13.6, cql_loss=1.71, total_loss=17]\n"
          ]
        },
        {
          "output_type": "stream",
          "name": "stdout",
          "text": [
            "\n",
            "Epoch 84/100 - TD Loss: 11.5165, CQL Loss: 1.7929, Total Loss: 15.1022\n"
          ]
        },
        {
          "output_type": "stream",
          "name": "stderr",
          "text": [
            "Epoch 85/100: 100%|██████████| 47/47 [00:00<00:00, 52.68it/s, td_loss=9.62, cql_loss=1.77, total_loss=13.2]\n"
          ]
        },
        {
          "output_type": "stream",
          "name": "stdout",
          "text": [
            "\n",
            "Epoch 85/100 - TD Loss: 11.5528, CQL Loss: 1.8002, Total Loss: 15.1533\n",
            "\n",
            "Evaluation over 20 episodes:\n",
            "  Mean return: 11.4526 ± 9.1312\n",
            "  Mean episode length: 16.60\n",
            "  Termination reasons: {'max_steps': 1, 'done': 19, 'buffer_end': 0}\n",
            "Evaluation - Mean Return: 11.4526\n"
          ]
        },
        {
          "output_type": "stream",
          "name": "stderr",
          "text": [
            "Epoch 86/100: 100%|██████████| 47/47 [00:00<00:00, 52.64it/s, td_loss=11.8, cql_loss=1.77, total_loss=15.4]\n"
          ]
        },
        {
          "output_type": "stream",
          "name": "stdout",
          "text": [
            "\n",
            "Epoch 86/100 - TD Loss: 11.6280, CQL Loss: 1.7817, Total Loss: 15.1914\n"
          ]
        },
        {
          "output_type": "stream",
          "name": "stderr",
          "text": [
            "Epoch 87/100: 100%|██████████| 47/47 [00:00<00:00, 53.52it/s, td_loss=11.2, cql_loss=1.85, total_loss=14.9]\n"
          ]
        },
        {
          "output_type": "stream",
          "name": "stdout",
          "text": [
            "\n",
            "Epoch 87/100 - TD Loss: 11.6692, CQL Loss: 1.7918, Total Loss: 15.2527\n"
          ]
        },
        {
          "output_type": "stream",
          "name": "stderr",
          "text": [
            "Epoch 88/100: 100%|██████████| 47/47 [00:01<00:00, 41.06it/s, td_loss=9.04, cql_loss=1.79, total_loss=12.6]\n"
          ]
        },
        {
          "output_type": "stream",
          "name": "stdout",
          "text": [
            "\n",
            "Epoch 88/100 - TD Loss: 11.7155, CQL Loss: 1.7899, Total Loss: 15.2953\n"
          ]
        },
        {
          "output_type": "stream",
          "name": "stderr",
          "text": [
            "Epoch 89/100: 100%|██████████| 47/47 [00:00<00:00, 51.06it/s, td_loss=9.77, cql_loss=1.81, total_loss=13.4]\n"
          ]
        },
        {
          "output_type": "stream",
          "name": "stdout",
          "text": [
            "\n",
            "Epoch 89/100 - TD Loss: 11.7273, CQL Loss: 1.7884, Total Loss: 15.3040\n"
          ]
        },
        {
          "output_type": "stream",
          "name": "stderr",
          "text": [
            "Epoch 90/100: 100%|██████████| 47/47 [00:00<00:00, 51.95it/s, td_loss=14.2, cql_loss=1.71, total_loss=17.6]\n"
          ]
        },
        {
          "output_type": "stream",
          "name": "stdout",
          "text": [
            "\n",
            "Epoch 90/100 - TD Loss: 11.8179, CQL Loss: 1.7904, Total Loss: 15.3986\n",
            "\n",
            "Evaluation over 20 episodes:\n",
            "  Mean return: 17.6609 ± 18.9439\n",
            "  Mean episode length: 26.80\n",
            "  Termination reasons: {'max_steps': 4, 'done': 16, 'buffer_end': 0}\n",
            "Evaluation - Mean Return: 17.6609\n"
          ]
        },
        {
          "output_type": "stream",
          "name": "stderr",
          "text": [
            "Epoch 91/100: 100%|██████████| 47/47 [00:00<00:00, 50.80it/s, td_loss=12.4, cql_loss=1.82, total_loss=16.1]\n"
          ]
        },
        {
          "output_type": "stream",
          "name": "stdout",
          "text": [
            "\n",
            "Epoch 91/100 - TD Loss: 11.8583, CQL Loss: 1.7890, Total Loss: 15.4364\n"
          ]
        },
        {
          "output_type": "stream",
          "name": "stderr",
          "text": [
            "Epoch 92/100: 100%|██████████| 47/47 [00:00<00:00, 52.34it/s, td_loss=9.08, cql_loss=1.7, total_loss=12.5]\n"
          ]
        },
        {
          "output_type": "stream",
          "name": "stdout",
          "text": [
            "\n",
            "Epoch 92/100 - TD Loss: 11.8831, CQL Loss: 1.7759, Total Loss: 15.4348\n"
          ]
        },
        {
          "output_type": "stream",
          "name": "stderr",
          "text": [
            "Epoch 93/100: 100%|██████████| 47/47 [00:00<00:00, 52.91it/s, td_loss=12.1, cql_loss=1.77, total_loss=15.6]\n"
          ]
        },
        {
          "output_type": "stream",
          "name": "stdout",
          "text": [
            "\n",
            "Epoch 93/100 - TD Loss: 11.9704, CQL Loss: 1.7866, Total Loss: 15.5435\n"
          ]
        },
        {
          "output_type": "stream",
          "name": "stderr",
          "text": [
            "Epoch 94/100: 100%|██████████| 47/47 [00:01<00:00, 43.64it/s, td_loss=10.2, cql_loss=1.7, total_loss=13.6]\n"
          ]
        },
        {
          "output_type": "stream",
          "name": "stdout",
          "text": [
            "\n",
            "Epoch 94/100 - TD Loss: 11.9873, CQL Loss: 1.7807, Total Loss: 15.5487\n"
          ]
        },
        {
          "output_type": "stream",
          "name": "stderr",
          "text": [
            "Epoch 95/100: 100%|██████████| 47/47 [00:01<00:00, 40.05it/s, td_loss=12.6, cql_loss=1.84, total_loss=16.2]\n"
          ]
        },
        {
          "output_type": "stream",
          "name": "stdout",
          "text": [
            "\n",
            "Epoch 95/100 - TD Loss: 12.0453, CQL Loss: 1.7804, Total Loss: 15.6061\n",
            "\n",
            "Evaluation over 20 episodes:\n",
            "  Mean return: 21.5878 ± 23.8970\n",
            "  Mean episode length: 30.50\n",
            "  Termination reasons: {'max_steps': 6, 'done': 14, 'buffer_end': 0}\n",
            "Evaluation - Mean Return: 21.5878\n",
            "New best model saved with return: 21.5878\n"
          ]
        },
        {
          "output_type": "stream",
          "name": "stderr",
          "text": [
            "Epoch 96/100: 100%|██████████| 47/47 [00:01<00:00, 38.21it/s, td_loss=13.5, cql_loss=1.85, total_loss=17.2]\n"
          ]
        },
        {
          "output_type": "stream",
          "name": "stdout",
          "text": [
            "\n",
            "Epoch 96/100 - TD Loss: 12.0442, CQL Loss: 1.7697, Total Loss: 15.5837\n"
          ]
        },
        {
          "output_type": "stream",
          "name": "stderr",
          "text": [
            "Epoch 97/100: 100%|██████████| 47/47 [00:00<00:00, 51.43it/s, td_loss=13.4, cql_loss=1.77, total_loss=16.9]\n"
          ]
        },
        {
          "output_type": "stream",
          "name": "stdout",
          "text": [
            "\n",
            "Epoch 97/100 - TD Loss: 12.0515, CQL Loss: 1.7759, Total Loss: 15.6034\n"
          ]
        },
        {
          "output_type": "stream",
          "name": "stderr",
          "text": [
            "Epoch 98/100: 100%|██████████| 47/47 [00:00<00:00, 53.41it/s, td_loss=9.6, cql_loss=1.81, total_loss=13.2]\n"
          ]
        },
        {
          "output_type": "stream",
          "name": "stdout",
          "text": [
            "\n",
            "Epoch 98/100 - TD Loss: 12.1150, CQL Loss: 1.7772, Total Loss: 15.6694\n"
          ]
        },
        {
          "output_type": "stream",
          "name": "stderr",
          "text": [
            "Epoch 99/100: 100%|██████████| 47/47 [00:00<00:00, 52.58it/s, td_loss=14.9, cql_loss=1.68, total_loss=18.2]\n"
          ]
        },
        {
          "output_type": "stream",
          "name": "stdout",
          "text": [
            "\n",
            "Epoch 99/100 - TD Loss: 12.1600, CQL Loss: 1.7629, Total Loss: 15.6859\n"
          ]
        },
        {
          "output_type": "stream",
          "name": "stderr",
          "text": [
            "Epoch 100/100: 100%|██████████| 47/47 [00:00<00:00, 54.10it/s, td_loss=9.79, cql_loss=1.78, total_loss=13.4]\n"
          ]
        },
        {
          "output_type": "stream",
          "name": "stdout",
          "text": [
            "\n",
            "Epoch 100/100 - TD Loss: 12.2023, CQL Loss: 1.7664, Total Loss: 15.7351\n",
            "\n",
            "Evaluation over 20 episodes:\n",
            "  Mean return: 11.9295 ± 14.1734\n",
            "  Mean episode length: 16.25\n",
            "  Termination reasons: {'max_steps': 2, 'done': 18, 'buffer_end': 0}\n",
            "Evaluation - Mean Return: 11.9295\n",
            "\n",
            "Evaluation over 50 episodes:\n",
            "  Mean return: 9.9012 ± 12.3792\n",
            "  Mean episode length: 14.76\n",
            "  Termination reasons: {'max_steps': 5, 'done': 45, 'buffer_end': 0}\n",
            "\n",
            "Final Evaluation - Mean Return: 9.9012\n",
            "\n",
            "Training BC-initialized CQL...\n",
            "Training CQL agent with 12017 transitions\n",
            "State dim: 64, Action dim: 50\n",
            "CQL alpha: 0.9, Learning rate: 3e-05\n"
          ]
        },
        {
          "output_type": "stream",
          "name": "stderr",
          "text": [
            "Epoch 1/30: 100%|██████████| 47/47 [00:00<00:00, 53.36it/s, td_loss=6.68, cql_loss=2.99, total_loss=9.37]\n"
          ]
        },
        {
          "output_type": "stream",
          "name": "stdout",
          "text": [
            "\n",
            "Epoch 1/30 - TD Loss: 7.9211, CQL Loss: 3.5715, Total Loss: 11.1355\n"
          ]
        },
        {
          "output_type": "stream",
          "name": "stderr",
          "text": [
            "Epoch 2/30: 100%|██████████| 47/47 [00:01<00:00, 43.85it/s, td_loss=5.55, cql_loss=2.73, total_loss=8.01]\n"
          ]
        },
        {
          "output_type": "stream",
          "name": "stdout",
          "text": [
            "\n",
            "Epoch 2/30 - TD Loss: 6.0872, CQL Loss: 2.8886, Total Loss: 8.6870\n"
          ]
        },
        {
          "output_type": "stream",
          "name": "stderr",
          "text": [
            "Epoch 3/30: 100%|██████████| 47/47 [00:00<00:00, 55.43it/s, td_loss=5.64, cql_loss=2.78, total_loss=8.14]\n"
          ]
        },
        {
          "output_type": "stream",
          "name": "stdout",
          "text": [
            "\n",
            "Epoch 3/30 - TD Loss: 5.5461, CQL Loss: 2.7740, Total Loss: 8.0428\n"
          ]
        },
        {
          "output_type": "stream",
          "name": "stderr",
          "text": [
            "Epoch 4/30: 100%|██████████| 47/47 [00:00<00:00, 54.65it/s, td_loss=4.67, cql_loss=2.71, total_loss=7.11]\n"
          ]
        },
        {
          "output_type": "stream",
          "name": "stdout",
          "text": [
            "\n",
            "Epoch 4/30 - TD Loss: 5.2183, CQL Loss: 2.7365, Total Loss: 7.6812\n"
          ]
        },
        {
          "output_type": "stream",
          "name": "stderr",
          "text": [
            "Epoch 5/30: 100%|██████████| 47/47 [00:00<00:00, 53.63it/s, td_loss=5.1, cql_loss=2.68, total_loss=7.51]\n"
          ]
        },
        {
          "output_type": "stream",
          "name": "stdout",
          "text": [
            "\n",
            "Epoch 5/30 - TD Loss: 5.0290, CQL Loss: 2.7460, Total Loss: 7.5004\n",
            "\n",
            "Evaluation over 20 episodes:\n",
            "  Mean return: 23.5572 ± 28.3685\n",
            "  Mean episode length: 33.10\n",
            "  Termination reasons: {'max_steps': 7, 'done': 13, 'buffer_end': 0}\n",
            "Evaluation - Mean Return: 23.5572\n",
            "New best model saved with return: 23.5572\n"
          ]
        },
        {
          "output_type": "stream",
          "name": "stderr",
          "text": [
            "Epoch 6/30: 100%|██████████| 47/47 [00:00<00:00, 52.94it/s, td_loss=5.01, cql_loss=2.64, total_loss=7.39]\n"
          ]
        },
        {
          "output_type": "stream",
          "name": "stdout",
          "text": [
            "\n",
            "Epoch 6/30 - TD Loss: 5.0224, CQL Loss: 2.6990, Total Loss: 7.4515\n"
          ]
        },
        {
          "output_type": "stream",
          "name": "stderr",
          "text": [
            "Epoch 7/30: 100%|██████████| 47/47 [00:01<00:00, 40.14it/s, td_loss=5.99, cql_loss=2.62, total_loss=8.34]\n"
          ]
        },
        {
          "output_type": "stream",
          "name": "stdout",
          "text": [
            "\n",
            "Epoch 7/30 - TD Loss: 5.0755, CQL Loss: 2.6590, Total Loss: 7.4686\n"
          ]
        },
        {
          "output_type": "stream",
          "name": "stderr",
          "text": [
            "Epoch 8/30: 100%|██████████| 47/47 [00:01<00:00, 40.64it/s, td_loss=4.5, cql_loss=2.62, total_loss=6.86]\n"
          ]
        },
        {
          "output_type": "stream",
          "name": "stdout",
          "text": [
            "\n",
            "Epoch 8/30 - TD Loss: 5.1236, CQL Loss: 2.6357, Total Loss: 7.4957\n"
          ]
        },
        {
          "output_type": "stream",
          "name": "stderr",
          "text": [
            "Epoch 9/30: 100%|██████████| 47/47 [00:01<00:00, 40.32it/s, td_loss=4.93, cql_loss=2.58, total_loss=7.25]\n"
          ]
        },
        {
          "output_type": "stream",
          "name": "stdout",
          "text": [
            "\n",
            "Epoch 9/30 - TD Loss: 5.1944, CQL Loss: 2.6090, Total Loss: 7.5426\n"
          ]
        },
        {
          "output_type": "stream",
          "name": "stderr",
          "text": [
            "Epoch 10/30: 100%|██████████| 47/47 [00:00<00:00, 53.90it/s, td_loss=3.73, cql_loss=2.55, total_loss=6.03]\n"
          ]
        },
        {
          "output_type": "stream",
          "name": "stdout",
          "text": [
            "\n",
            "Epoch 10/30 - TD Loss: 5.2655, CQL Loss: 2.5917, Total Loss: 7.5980\n",
            "\n",
            "Evaluation over 20 episodes:\n",
            "  Mean return: 12.0237 ± 17.4262\n",
            "  Mean episode length: 14.70\n",
            "  Termination reasons: {'max_steps': 2, 'done': 18, 'buffer_end': 0}\n",
            "Evaluation - Mean Return: 12.0237\n"
          ]
        },
        {
          "output_type": "stream",
          "name": "stderr",
          "text": [
            "Epoch 11/30: 100%|██████████| 47/47 [00:00<00:00, 53.14it/s, td_loss=6.01, cql_loss=2.62, total_loss=8.37]\n"
          ]
        },
        {
          "output_type": "stream",
          "name": "stdout",
          "text": [
            "\n",
            "Epoch 11/30 - TD Loss: 5.3343, CQL Loss: 2.5799, Total Loss: 7.6563\n"
          ]
        },
        {
          "output_type": "stream",
          "name": "stderr",
          "text": [
            "Epoch 12/30: 100%|██████████| 47/47 [00:00<00:00, 53.99it/s, td_loss=5.74, cql_loss=2.6, total_loss=8.08]\n"
          ]
        },
        {
          "output_type": "stream",
          "name": "stdout",
          "text": [
            "\n",
            "Epoch 12/30 - TD Loss: 5.4161, CQL Loss: 2.5613, Total Loss: 7.7213\n"
          ]
        },
        {
          "output_type": "stream",
          "name": "stderr",
          "text": [
            "Epoch 13/30: 100%|██████████| 47/47 [00:00<00:00, 52.96it/s, td_loss=4.55, cql_loss=2.53, total_loss=6.84]\n"
          ]
        },
        {
          "output_type": "stream",
          "name": "stdout",
          "text": [
            "\n",
            "Epoch 13/30 - TD Loss: 5.4864, CQL Loss: 2.5458, Total Loss: 7.7776\n"
          ]
        },
        {
          "output_type": "stream",
          "name": "stderr",
          "text": [
            "Epoch 14/30: 100%|██████████| 47/47 [00:00<00:00, 53.90it/s, td_loss=6.65, cql_loss=2.57, total_loss=8.96]\n"
          ]
        },
        {
          "output_type": "stream",
          "name": "stdout",
          "text": [
            "\n",
            "Epoch 14/30 - TD Loss: 5.5641, CQL Loss: 2.5338, Total Loss: 7.8445\n"
          ]
        },
        {
          "output_type": "stream",
          "name": "stderr",
          "text": [
            "Epoch 15/30: 100%|██████████| 47/47 [00:00<00:00, 55.14it/s, td_loss=5.29, cql_loss=2.52, total_loss=7.56]\n"
          ]
        },
        {
          "output_type": "stream",
          "name": "stdout",
          "text": [
            "\n",
            "Epoch 15/30 - TD Loss: 5.6448, CQL Loss: 2.5146, Total Loss: 7.9079\n",
            "\n",
            "Evaluation over 20 episodes:\n",
            "  Mean return: 12.9849 ± 17.8524\n",
            "  Mean episode length: 20.70\n",
            "  Termination reasons: {'max_steps': 3, 'done': 17, 'buffer_end': 0}\n",
            "Evaluation - Mean Return: 12.9849\n"
          ]
        },
        {
          "output_type": "stream",
          "name": "stderr",
          "text": [
            "Epoch 16/30: 100%|██████████| 47/47 [00:00<00:00, 53.41it/s, td_loss=5.36, cql_loss=2.5, total_loss=7.61]\n"
          ]
        },
        {
          "output_type": "stream",
          "name": "stdout",
          "text": [
            "\n",
            "Epoch 16/30 - TD Loss: 5.7078, CQL Loss: 2.5112, Total Loss: 7.9679\n"
          ]
        },
        {
          "output_type": "stream",
          "name": "stderr",
          "text": [
            "Epoch 17/30: 100%|██████████| 47/47 [00:00<00:00, 53.39it/s, td_loss=4.82, cql_loss=2.49, total_loss=7.06]\n"
          ]
        },
        {
          "output_type": "stream",
          "name": "stdout",
          "text": [
            "\n",
            "Epoch 17/30 - TD Loss: 5.7802, CQL Loss: 2.4966, Total Loss: 8.0271\n"
          ]
        },
        {
          "output_type": "stream",
          "name": "stderr",
          "text": [
            "Epoch 18/30: 100%|██████████| 47/47 [00:00<00:00, 53.75it/s, td_loss=5.27, cql_loss=2.47, total_loss=7.5]\n"
          ]
        },
        {
          "output_type": "stream",
          "name": "stdout",
          "text": [
            "\n",
            "Epoch 18/30 - TD Loss: 5.8510, CQL Loss: 2.4824, Total Loss: 8.0852\n"
          ]
        },
        {
          "output_type": "stream",
          "name": "stderr",
          "text": [
            "Epoch 19/30: 100%|██████████| 47/47 [00:01<00:00, 42.91it/s, td_loss=6.21, cql_loss=2.58, total_loss=8.54]\n"
          ]
        },
        {
          "output_type": "stream",
          "name": "stdout",
          "text": [
            "\n",
            "Epoch 19/30 - TD Loss: 5.9062, CQL Loss: 2.4750, Total Loss: 8.1337\n"
          ]
        },
        {
          "output_type": "stream",
          "name": "stderr",
          "text": [
            "Epoch 20/30: 100%|██████████| 47/47 [00:00<00:00, 47.89it/s, td_loss=6.51, cql_loss=2.39, total_loss=8.66]\n"
          ]
        },
        {
          "output_type": "stream",
          "name": "stdout",
          "text": [
            "\n",
            "Epoch 20/30 - TD Loss: 5.9601, CQL Loss: 2.4747, Total Loss: 8.1874\n",
            "\n",
            "Evaluation over 20 episodes:\n",
            "  Mean return: 10.3387 ± 13.7965\n",
            "  Mean episode length: 16.90\n",
            "  Termination reasons: {'max_steps': 2, 'done': 18, 'buffer_end': 0}\n",
            "Evaluation - Mean Return: 10.3387\n"
          ]
        },
        {
          "output_type": "stream",
          "name": "stderr",
          "text": [
            "Epoch 21/30: 100%|██████████| 47/47 [00:01<00:00, 40.73it/s, td_loss=7, cql_loss=2.45, total_loss=9.2]\n"
          ]
        },
        {
          "output_type": "stream",
          "name": "stdout",
          "text": [
            "\n",
            "Epoch 21/30 - TD Loss: 6.0290, CQL Loss: 2.4512, Total Loss: 8.2351\n"
          ]
        },
        {
          "output_type": "stream",
          "name": "stderr",
          "text": [
            "Epoch 22/30: 100%|██████████| 47/47 [00:01<00:00, 40.44it/s, td_loss=5.76, cql_loss=2.43, total_loss=7.95]\n"
          ]
        },
        {
          "output_type": "stream",
          "name": "stdout",
          "text": [
            "\n",
            "Epoch 22/30 - TD Loss: 6.0907, CQL Loss: 2.4379, Total Loss: 8.2848\n"
          ]
        },
        {
          "output_type": "stream",
          "name": "stderr",
          "text": [
            "Epoch 23/30: 100%|██████████| 47/47 [00:01<00:00, 42.19it/s, td_loss=5.02, cql_loss=2.53, total_loss=7.3]\n"
          ]
        },
        {
          "output_type": "stream",
          "name": "stdout",
          "text": [
            "\n",
            "Epoch 23/30 - TD Loss: 6.1357, CQL Loss: 2.4306, Total Loss: 8.3233\n"
          ]
        },
        {
          "output_type": "stream",
          "name": "stderr",
          "text": [
            "Epoch 24/30: 100%|██████████| 47/47 [00:00<00:00, 51.98it/s, td_loss=6.82, cql_loss=2.42, total_loss=9]\n"
          ]
        },
        {
          "output_type": "stream",
          "name": "stdout",
          "text": [
            "\n",
            "Epoch 24/30 - TD Loss: 6.1856, CQL Loss: 2.4182, Total Loss: 8.3620\n"
          ]
        },
        {
          "output_type": "stream",
          "name": "stderr",
          "text": [
            "Epoch 25/30: 100%|██████████| 47/47 [00:00<00:00, 51.69it/s, td_loss=7.51, cql_loss=2.33, total_loss=9.61]\n"
          ]
        },
        {
          "output_type": "stream",
          "name": "stdout",
          "text": [
            "\n",
            "Epoch 25/30 - TD Loss: 6.2190, CQL Loss: 2.4143, Total Loss: 8.3919\n",
            "\n",
            "Evaluation over 20 episodes:\n",
            "  Mean return: 14.0667 ± 17.5058\n",
            "  Mean episode length: 19.25\n",
            "  Termination reasons: {'max_steps': 2, 'done': 18, 'buffer_end': 0}\n",
            "Evaluation - Mean Return: 14.0667\n"
          ]
        },
        {
          "output_type": "stream",
          "name": "stderr",
          "text": [
            "Epoch 26/30: 100%|██████████| 47/47 [00:00<00:00, 50.83it/s, td_loss=6.74, cql_loss=2.46, total_loss=8.95]\n"
          ]
        },
        {
          "output_type": "stream",
          "name": "stdout",
          "text": [
            "\n",
            "Epoch 26/30 - TD Loss: 6.2823, CQL Loss: 2.3910, Total Loss: 8.4342\n"
          ]
        },
        {
          "output_type": "stream",
          "name": "stderr",
          "text": [
            "Epoch 27/30: 100%|██████████| 47/47 [00:00<00:00, 52.02it/s, td_loss=5.91, cql_loss=2.27, total_loss=7.95]\n"
          ]
        },
        {
          "output_type": "stream",
          "name": "stdout",
          "text": [
            "\n",
            "Epoch 27/30 - TD Loss: 6.3067, CQL Loss: 2.3880, Total Loss: 8.4559\n"
          ]
        },
        {
          "output_type": "stream",
          "name": "stderr",
          "text": [
            "Epoch 28/30: 100%|██████████| 47/47 [00:01<00:00, 41.80it/s, td_loss=6.95, cql_loss=2.44, total_loss=9.14]\n"
          ]
        },
        {
          "output_type": "stream",
          "name": "stdout",
          "text": [
            "\n",
            "Epoch 28/30 - TD Loss: 6.3396, CQL Loss: 2.3760, Total Loss: 8.4781\n"
          ]
        },
        {
          "output_type": "stream",
          "name": "stderr",
          "text": [
            "Epoch 29/30: 100%|██████████| 47/47 [00:00<00:00, 52.89it/s, td_loss=6.54, cql_loss=2.41, total_loss=8.71]\n"
          ]
        },
        {
          "output_type": "stream",
          "name": "stdout",
          "text": [
            "\n",
            "Epoch 29/30 - TD Loss: 6.3826, CQL Loss: 2.3590, Total Loss: 8.5057\n"
          ]
        },
        {
          "output_type": "stream",
          "name": "stderr",
          "text": [
            "Epoch 30/30: 100%|██████████| 47/47 [00:00<00:00, 54.14it/s, td_loss=6.02, cql_loss=2.34, total_loss=8.13]\n"
          ]
        },
        {
          "output_type": "stream",
          "name": "stdout",
          "text": [
            "\n",
            "Epoch 30/30 - TD Loss: 6.4019, CQL Loss: 2.3572, Total Loss: 8.5233\n",
            "\n",
            "Evaluation over 20 episodes:\n",
            "  Mean return: 12.5612 ± 17.4710\n",
            "  Mean episode length: 18.20\n",
            "  Termination reasons: {'max_steps': 3, 'done': 17, 'buffer_end': 0}\n",
            "Evaluation - Mean Return: 12.5612\n",
            "\n",
            "Evaluation over 50 episodes:\n",
            "  Mean return: 11.2979 ± 13.4358\n",
            "  Mean episode length: 14.26\n",
            "  Termination reasons: {'max_steps': 7, 'done': 43, 'buffer_end': 0}\n",
            "\n",
            "Final Evaluation - Mean Return: 11.2979\n",
            "\n",
            "Evaluating models on same starting states...\n",
            "\n",
            "Evaluating 100 episodes with same starting states for all models:\n"
          ]
        },
        {
          "output_type": "stream",
          "name": "stderr",
          "text": [
            "100%|██████████| 100/100 [00:01<00:00, 89.77it/s]\n",
            "<ipython-input-14-b81c2c04a512>:116: MatplotlibDeprecationWarning: The 'labels' parameter of boxplot() has been renamed 'tick_labels' since Matplotlib 3.9; support for the old name will be dropped in 3.11.\n",
            "  box = plt.boxplot(data, patch_artist=True, labels=labels)\n"
          ]
        },
        {
          "output_type": "stream",
          "name": "stdout",
          "text": [
            "\n",
            "Model Comparison (fair evaluation):\n",
            "BC policy return:            12.2316 ± 11.5073\n",
            "Standard CQL policy return:  13.3996 ± 13.2213 (9.5% vs BC)\n",
            "BC-init CQL policy return:   13.3996 ± 13.2213 (9.5% vs BC)\n",
            "\n",
            "Paired t-test results:\n",
            "BC vs CQL:          t=-4.8771, p=0.0000 (significant)\n",
            "BC vs BC-init CQL:  t=-4.8771, p=0.0000 (significant)\n",
            "CQL vs BC-init CQL: t=nan, p=nan (not significant)\n"
          ]
        },
        {
          "output_type": "display_data",
          "data": {
            "text/plain": [
              "<Figure size 1000x600 with 1 Axes>"
            ],
            "image/png": "[encoded data removed]"
          },
          "metadata": {}
        },
        {
          "output_type": "stream",
          "name": "stdout",
          "text": [
            "Evaluation complete. Results saved to 'fair_evaluation_returns.npz'\n"
          ]
        }
      ]
    }
  ]
}